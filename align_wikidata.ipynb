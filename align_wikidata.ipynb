{
  "cells": [
    {
      "cell_type": "markdown",
      "metadata": {
        "id": "cSCV0ZxR9P8S"
      },
      "source": [
        "# Align Bionet with Wikidata "
      ]
    },
    {
      "cell_type": "markdown",
      "metadata": {
        "id": "tg738Lmn9P8X"
      },
      "source": [
        "\n",
        "- **Install the *rdflib* Python package:** *pip install rdflib* (should already be installed from the previous assignment)\n",
        "- **Install the *SPARQLWrapper* Python package:** *pip install SPARQLWrapper*\n",
        "\n"
      ]
    },
    {
      "cell_type": "markdown",
      "metadata": {
        "id": "ngh0TZae9P8Y"
      },
      "source": [
        "## Get artists from wikidata"
      ]
    },
    {
      "cell_type": "code",
      "execution_count": 1,
      "metadata": {
        "id": "Arq54S-q9P8a"
      },
      "outputs": [],
      "source": [
        "from random import randint\n",
        "from rdflib import Graph, RDF, Namespace, Literal, URIRef\n",
        "from SPARQLWrapper import SPARQLWrapper, JSON\n",
        "from time import sleep\n"
      ]
    },
    {
      "cell_type": "markdown",
      "metadata": {
        "id": "ifYB3KK19P_L"
      },
      "source": [
        "# Get artists from intavia bionet"
      ]
    },
    {
      "cell_type": "code",
      "execution_count": 3,
      "metadata": {
        "id": "7zhdKYXn9P_L",
        "outputId": "5e9af2c4-bb91-4902-d29b-4be9dec7384a"
      },
      "outputs": [
        {
          "ename": "URLError",
          "evalue": "<urlopen error [Errno 61] Connection refused>",
          "output_type": "error",
          "traceback": [
            "\u001b[0;31m---------------------------------------------------------------------------\u001b[0m",
            "\u001b[0;31mConnectionRefusedError\u001b[0m                    Traceback (most recent call last)",
            "\u001b[0;32m~/opt/anaconda3/lib/python3.9/urllib/request.py\u001b[0m in \u001b[0;36mdo_open\u001b[0;34m(self, http_class, req, **http_conn_args)\u001b[0m\n\u001b[1;32m   1345\u001b[0m             \u001b[0;32mtry\u001b[0m\u001b[0;34m:\u001b[0m\u001b[0;34m\u001b[0m\u001b[0;34m\u001b[0m\u001b[0m\n\u001b[0;32m-> 1346\u001b[0;31m                 h.request(req.get_method(), req.selector, req.data, headers,\n\u001b[0m\u001b[1;32m   1347\u001b[0m                           encode_chunked=req.has_header('Transfer-encoding'))\n",
            "\u001b[0;32m~/opt/anaconda3/lib/python3.9/http/client.py\u001b[0m in \u001b[0;36mrequest\u001b[0;34m(self, method, url, body, headers, encode_chunked)\u001b[0m\n\u001b[1;32m   1278\u001b[0m         \u001b[0;34m\"\"\"Send a complete request to the server.\"\"\"\u001b[0m\u001b[0;34m\u001b[0m\u001b[0;34m\u001b[0m\u001b[0m\n\u001b[0;32m-> 1279\u001b[0;31m         \u001b[0mself\u001b[0m\u001b[0;34m.\u001b[0m\u001b[0m_send_request\u001b[0m\u001b[0;34m(\u001b[0m\u001b[0mmethod\u001b[0m\u001b[0;34m,\u001b[0m \u001b[0murl\u001b[0m\u001b[0;34m,\u001b[0m \u001b[0mbody\u001b[0m\u001b[0;34m,\u001b[0m \u001b[0mheaders\u001b[0m\u001b[0;34m,\u001b[0m \u001b[0mencode_chunked\u001b[0m\u001b[0;34m)\u001b[0m\u001b[0;34m\u001b[0m\u001b[0;34m\u001b[0m\u001b[0m\n\u001b[0m\u001b[1;32m   1280\u001b[0m \u001b[0;34m\u001b[0m\u001b[0m\n",
            "\u001b[0;32m~/opt/anaconda3/lib/python3.9/http/client.py\u001b[0m in \u001b[0;36m_send_request\u001b[0;34m(self, method, url, body, headers, encode_chunked)\u001b[0m\n\u001b[1;32m   1324\u001b[0m             \u001b[0mbody\u001b[0m \u001b[0;34m=\u001b[0m \u001b[0m_encode\u001b[0m\u001b[0;34m(\u001b[0m\u001b[0mbody\u001b[0m\u001b[0;34m,\u001b[0m \u001b[0;34m'body'\u001b[0m\u001b[0;34m)\u001b[0m\u001b[0;34m\u001b[0m\u001b[0;34m\u001b[0m\u001b[0m\n\u001b[0;32m-> 1325\u001b[0;31m         \u001b[0mself\u001b[0m\u001b[0;34m.\u001b[0m\u001b[0mendheaders\u001b[0m\u001b[0;34m(\u001b[0m\u001b[0mbody\u001b[0m\u001b[0;34m,\u001b[0m \u001b[0mencode_chunked\u001b[0m\u001b[0;34m=\u001b[0m\u001b[0mencode_chunked\u001b[0m\u001b[0;34m)\u001b[0m\u001b[0;34m\u001b[0m\u001b[0;34m\u001b[0m\u001b[0m\n\u001b[0m\u001b[1;32m   1326\u001b[0m \u001b[0;34m\u001b[0m\u001b[0m\n",
            "\u001b[0;32m~/opt/anaconda3/lib/python3.9/http/client.py\u001b[0m in \u001b[0;36mendheaders\u001b[0;34m(self, message_body, encode_chunked)\u001b[0m\n\u001b[1;32m   1273\u001b[0m             \u001b[0;32mraise\u001b[0m \u001b[0mCannotSendHeader\u001b[0m\u001b[0;34m(\u001b[0m\u001b[0;34m)\u001b[0m\u001b[0;34m\u001b[0m\u001b[0;34m\u001b[0m\u001b[0m\n\u001b[0;32m-> 1274\u001b[0;31m         \u001b[0mself\u001b[0m\u001b[0;34m.\u001b[0m\u001b[0m_send_output\u001b[0m\u001b[0;34m(\u001b[0m\u001b[0mmessage_body\u001b[0m\u001b[0;34m,\u001b[0m \u001b[0mencode_chunked\u001b[0m\u001b[0;34m=\u001b[0m\u001b[0mencode_chunked\u001b[0m\u001b[0;34m)\u001b[0m\u001b[0;34m\u001b[0m\u001b[0;34m\u001b[0m\u001b[0m\n\u001b[0m\u001b[1;32m   1275\u001b[0m \u001b[0;34m\u001b[0m\u001b[0m\n",
            "\u001b[0;32m~/opt/anaconda3/lib/python3.9/http/client.py\u001b[0m in \u001b[0;36m_send_output\u001b[0;34m(self, message_body, encode_chunked)\u001b[0m\n\u001b[1;32m   1033\u001b[0m         \u001b[0;32mdel\u001b[0m \u001b[0mself\u001b[0m\u001b[0;34m.\u001b[0m\u001b[0m_buffer\u001b[0m\u001b[0;34m[\u001b[0m\u001b[0;34m:\u001b[0m\u001b[0;34m]\u001b[0m\u001b[0;34m\u001b[0m\u001b[0;34m\u001b[0m\u001b[0m\n\u001b[0;32m-> 1034\u001b[0;31m         \u001b[0mself\u001b[0m\u001b[0;34m.\u001b[0m\u001b[0msend\u001b[0m\u001b[0;34m(\u001b[0m\u001b[0mmsg\u001b[0m\u001b[0;34m)\u001b[0m\u001b[0;34m\u001b[0m\u001b[0;34m\u001b[0m\u001b[0m\n\u001b[0m\u001b[1;32m   1035\u001b[0m \u001b[0;34m\u001b[0m\u001b[0m\n",
            "\u001b[0;32m~/opt/anaconda3/lib/python3.9/http/client.py\u001b[0m in \u001b[0;36msend\u001b[0;34m(self, data)\u001b[0m\n\u001b[1;32m    973\u001b[0m             \u001b[0;32mif\u001b[0m \u001b[0mself\u001b[0m\u001b[0;34m.\u001b[0m\u001b[0mauto_open\u001b[0m\u001b[0;34m:\u001b[0m\u001b[0;34m\u001b[0m\u001b[0;34m\u001b[0m\u001b[0m\n\u001b[0;32m--> 974\u001b[0;31m                 \u001b[0mself\u001b[0m\u001b[0;34m.\u001b[0m\u001b[0mconnect\u001b[0m\u001b[0;34m(\u001b[0m\u001b[0;34m)\u001b[0m\u001b[0;34m\u001b[0m\u001b[0;34m\u001b[0m\u001b[0m\n\u001b[0m\u001b[1;32m    975\u001b[0m             \u001b[0;32melse\u001b[0m\u001b[0;34m:\u001b[0m\u001b[0;34m\u001b[0m\u001b[0;34m\u001b[0m\u001b[0m\n",
            "\u001b[0;32m~/opt/anaconda3/lib/python3.9/http/client.py\u001b[0m in \u001b[0;36mconnect\u001b[0;34m(self)\u001b[0m\n\u001b[1;32m    944\u001b[0m         \u001b[0;34m\"\"\"Connect to the host and port specified in __init__.\"\"\"\u001b[0m\u001b[0;34m\u001b[0m\u001b[0;34m\u001b[0m\u001b[0m\n\u001b[0;32m--> 945\u001b[0;31m         self.sock = self._create_connection(\n\u001b[0m\u001b[1;32m    946\u001b[0m             (self.host,self.port), self.timeout, self.source_address)\n",
            "\u001b[0;32m~/opt/anaconda3/lib/python3.9/socket.py\u001b[0m in \u001b[0;36mcreate_connection\u001b[0;34m(address, timeout, source_address)\u001b[0m\n\u001b[1;32m    843\u001b[0m         \u001b[0;32mtry\u001b[0m\u001b[0;34m:\u001b[0m\u001b[0;34m\u001b[0m\u001b[0;34m\u001b[0m\u001b[0m\n\u001b[0;32m--> 844\u001b[0;31m             \u001b[0;32mraise\u001b[0m \u001b[0merr\u001b[0m\u001b[0;34m\u001b[0m\u001b[0;34m\u001b[0m\u001b[0m\n\u001b[0m\u001b[1;32m    845\u001b[0m         \u001b[0;32mfinally\u001b[0m\u001b[0;34m:\u001b[0m\u001b[0;34m\u001b[0m\u001b[0;34m\u001b[0m\u001b[0m\n",
            "\u001b[0;32m~/opt/anaconda3/lib/python3.9/socket.py\u001b[0m in \u001b[0;36mcreate_connection\u001b[0;34m(address, timeout, source_address)\u001b[0m\n\u001b[1;32m    831\u001b[0m                 \u001b[0msock\u001b[0m\u001b[0;34m.\u001b[0m\u001b[0mbind\u001b[0m\u001b[0;34m(\u001b[0m\u001b[0msource_address\u001b[0m\u001b[0;34m)\u001b[0m\u001b[0;34m\u001b[0m\u001b[0;34m\u001b[0m\u001b[0m\n\u001b[0;32m--> 832\u001b[0;31m             \u001b[0msock\u001b[0m\u001b[0;34m.\u001b[0m\u001b[0mconnect\u001b[0m\u001b[0;34m(\u001b[0m\u001b[0msa\u001b[0m\u001b[0;34m)\u001b[0m\u001b[0;34m\u001b[0m\u001b[0;34m\u001b[0m\u001b[0m\n\u001b[0m\u001b[1;32m    833\u001b[0m             \u001b[0;31m# Break explicitly a reference cycle\u001b[0m\u001b[0;34m\u001b[0m\u001b[0;34m\u001b[0m\u001b[0m\n",
            "\u001b[0;31mConnectionRefusedError\u001b[0m: [Errno 61] Connection refused",
            "\nDuring handling of the above exception, another exception occurred:\n",
            "\u001b[0;31mURLError\u001b[0m                                  Traceback (most recent call last)",
            "\u001b[0;32m/var/folders/fy/fvjdlg5s0sg6gkpfmpd6klp00000gn/T/ipykernel_30026/3334582912.py\u001b[0m in \u001b[0;36m<module>\u001b[0;34m\u001b[0m\n\u001b[1;32m     20\u001b[0m \"\"\")\n\u001b[1;32m     21\u001b[0m \u001b[0msparql\u001b[0m\u001b[0;34m.\u001b[0m\u001b[0msetReturnFormat\u001b[0m\u001b[0;34m(\u001b[0m\u001b[0mJSON\u001b[0m\u001b[0;34m)\u001b[0m\u001b[0;34m\u001b[0m\u001b[0;34m\u001b[0m\u001b[0m\n\u001b[0;32m---> 22\u001b[0;31m \u001b[0mbionetresults\u001b[0m \u001b[0;34m=\u001b[0m \u001b[0msparql\u001b[0m\u001b[0;34m.\u001b[0m\u001b[0mquery\u001b[0m\u001b[0;34m(\u001b[0m\u001b[0;34m)\u001b[0m\u001b[0;34m.\u001b[0m\u001b[0mconvert\u001b[0m\u001b[0;34m(\u001b[0m\u001b[0;34m)\u001b[0m\u001b[0;34m\u001b[0m\u001b[0;34m\u001b[0m\u001b[0m\n\u001b[0m\u001b[1;32m     23\u001b[0m \u001b[0;32mfor\u001b[0m \u001b[0mresult\u001b[0m \u001b[0;32min\u001b[0m \u001b[0mbionetresults\u001b[0m\u001b[0;34m[\u001b[0m\u001b[0;34m\"results\"\u001b[0m\u001b[0;34m]\u001b[0m\u001b[0;34m[\u001b[0m\u001b[0;34m\"bindings\"\u001b[0m\u001b[0;34m]\u001b[0m\u001b[0;34m:\u001b[0m\u001b[0;34m\u001b[0m\u001b[0;34m\u001b[0m\u001b[0m\n\u001b[1;32m     24\u001b[0m     \u001b[0mprint\u001b[0m\u001b[0;34m(\u001b[0m\u001b[0mresult\u001b[0m\u001b[0;34m[\u001b[0m\u001b[0;34m\"person\"\u001b[0m\u001b[0;34m]\u001b[0m\u001b[0;34m[\u001b[0m\u001b[0;34m\"value\"\u001b[0m\u001b[0;34m]\u001b[0m \u001b[0;34m+\u001b[0m \u001b[0;34m'\\t'\u001b[0m \u001b[0;34m+\u001b[0m \u001b[0mresult\u001b[0m\u001b[0;34m[\u001b[0m\u001b[0;34m\"names\"\u001b[0m\u001b[0;34m]\u001b[0m\u001b[0;34m[\u001b[0m\u001b[0;34m\"value\"\u001b[0m\u001b[0;34m]\u001b[0m \u001b[0;34m+\u001b[0m \u001b[0;34m'\\t'\u001b[0m \u001b[0;34m+\u001b[0m \u001b[0mresult\u001b[0m\u001b[0;34m[\u001b[0m\u001b[0;34m\"tslabs\"\u001b[0m\u001b[0;34m]\u001b[0m\u001b[0;34m[\u001b[0m\u001b[0;34m\"value\"\u001b[0m\u001b[0;34m]\u001b[0m\u001b[0;34m)\u001b[0m\u001b[0;34m\u001b[0m\u001b[0;34m\u001b[0m\u001b[0m\n",
            "\u001b[0;32m~/opt/anaconda3/lib/python3.9/site-packages/SPARQLWrapper/Wrapper.py\u001b[0m in \u001b[0;36mquery\u001b[0;34m(self)\u001b[0m\n\u001b[1;32m   1105\u001b[0m             \u001b[0;34m:\u001b[0m\u001b[0mrtype\u001b[0m\u001b[0;34m:\u001b[0m \u001b[0;34m:\u001b[0m\u001b[0;32mclass\u001b[0m\u001b[0;34m:\u001b[0m\u001b[0;31m`\u001b[0m\u001b[0mQueryResult\u001b[0m\u001b[0;31m`\u001b[0m \u001b[0minstance\u001b[0m\u001b[0;34m\u001b[0m\u001b[0;34m\u001b[0m\u001b[0m\n\u001b[1;32m   1106\u001b[0m         \"\"\"\n\u001b[0;32m-> 1107\u001b[0;31m         \u001b[0;32mreturn\u001b[0m \u001b[0mQueryResult\u001b[0m\u001b[0;34m(\u001b[0m\u001b[0mself\u001b[0m\u001b[0;34m.\u001b[0m\u001b[0m_query\u001b[0m\u001b[0;34m(\u001b[0m\u001b[0;34m)\u001b[0m\u001b[0;34m)\u001b[0m\u001b[0;34m\u001b[0m\u001b[0;34m\u001b[0m\u001b[0m\n\u001b[0m\u001b[1;32m   1108\u001b[0m \u001b[0;34m\u001b[0m\u001b[0m\n\u001b[1;32m   1109\u001b[0m     \u001b[0;32mdef\u001b[0m \u001b[0mqueryAndConvert\u001b[0m\u001b[0;34m(\u001b[0m\u001b[0mself\u001b[0m\u001b[0;34m)\u001b[0m\u001b[0;34m:\u001b[0m\u001b[0;34m\u001b[0m\u001b[0;34m\u001b[0m\u001b[0m\n",
            "\u001b[0;32m~/opt/anaconda3/lib/python3.9/site-packages/SPARQLWrapper/Wrapper.py\u001b[0m in \u001b[0;36m_query\u001b[0;34m(self)\u001b[0m\n\u001b[1;32m   1071\u001b[0m                 \u001b[0mresponse\u001b[0m \u001b[0;34m=\u001b[0m \u001b[0murlopener\u001b[0m\u001b[0;34m(\u001b[0m\u001b[0mrequest\u001b[0m\u001b[0;34m,\u001b[0m \u001b[0mtimeout\u001b[0m\u001b[0;34m=\u001b[0m\u001b[0mself\u001b[0m\u001b[0;34m.\u001b[0m\u001b[0mtimeout\u001b[0m\u001b[0;34m)\u001b[0m\u001b[0;34m\u001b[0m\u001b[0;34m\u001b[0m\u001b[0m\n\u001b[1;32m   1072\u001b[0m             \u001b[0;32melse\u001b[0m\u001b[0;34m:\u001b[0m\u001b[0;34m\u001b[0m\u001b[0;34m\u001b[0m\u001b[0m\n\u001b[0;32m-> 1073\u001b[0;31m                 \u001b[0mresponse\u001b[0m \u001b[0;34m=\u001b[0m \u001b[0murlopener\u001b[0m\u001b[0;34m(\u001b[0m\u001b[0mrequest\u001b[0m\u001b[0;34m)\u001b[0m\u001b[0;34m\u001b[0m\u001b[0;34m\u001b[0m\u001b[0m\n\u001b[0m\u001b[1;32m   1074\u001b[0m             \u001b[0;32mreturn\u001b[0m \u001b[0mresponse\u001b[0m\u001b[0;34m,\u001b[0m \u001b[0mself\u001b[0m\u001b[0;34m.\u001b[0m\u001b[0mreturnFormat\u001b[0m\u001b[0;34m\u001b[0m\u001b[0;34m\u001b[0m\u001b[0m\n\u001b[1;32m   1075\u001b[0m         \u001b[0;32mexcept\u001b[0m \u001b[0murllib\u001b[0m\u001b[0;34m.\u001b[0m\u001b[0merror\u001b[0m\u001b[0;34m.\u001b[0m\u001b[0mHTTPError\u001b[0m \u001b[0;32mas\u001b[0m \u001b[0me\u001b[0m\u001b[0;34m:\u001b[0m\u001b[0;34m\u001b[0m\u001b[0;34m\u001b[0m\u001b[0m\n",
            "\u001b[0;32m~/opt/anaconda3/lib/python3.9/urllib/request.py\u001b[0m in \u001b[0;36murlopen\u001b[0;34m(url, data, timeout, cafile, capath, cadefault, context)\u001b[0m\n\u001b[1;32m    212\u001b[0m     \u001b[0;32melse\u001b[0m\u001b[0;34m:\u001b[0m\u001b[0;34m\u001b[0m\u001b[0;34m\u001b[0m\u001b[0m\n\u001b[1;32m    213\u001b[0m         \u001b[0mopener\u001b[0m \u001b[0;34m=\u001b[0m \u001b[0m_opener\u001b[0m\u001b[0;34m\u001b[0m\u001b[0;34m\u001b[0m\u001b[0m\n\u001b[0;32m--> 214\u001b[0;31m     \u001b[0;32mreturn\u001b[0m \u001b[0mopener\u001b[0m\u001b[0;34m.\u001b[0m\u001b[0mopen\u001b[0m\u001b[0;34m(\u001b[0m\u001b[0murl\u001b[0m\u001b[0;34m,\u001b[0m \u001b[0mdata\u001b[0m\u001b[0;34m,\u001b[0m \u001b[0mtimeout\u001b[0m\u001b[0;34m)\u001b[0m\u001b[0;34m\u001b[0m\u001b[0;34m\u001b[0m\u001b[0m\n\u001b[0m\u001b[1;32m    215\u001b[0m \u001b[0;34m\u001b[0m\u001b[0m\n\u001b[1;32m    216\u001b[0m \u001b[0;32mdef\u001b[0m \u001b[0minstall_opener\u001b[0m\u001b[0;34m(\u001b[0m\u001b[0mopener\u001b[0m\u001b[0;34m)\u001b[0m\u001b[0;34m:\u001b[0m\u001b[0;34m\u001b[0m\u001b[0;34m\u001b[0m\u001b[0m\n",
            "\u001b[0;32m~/opt/anaconda3/lib/python3.9/urllib/request.py\u001b[0m in \u001b[0;36mopen\u001b[0;34m(self, fullurl, data, timeout)\u001b[0m\n\u001b[1;32m    515\u001b[0m \u001b[0;34m\u001b[0m\u001b[0m\n\u001b[1;32m    516\u001b[0m         \u001b[0msys\u001b[0m\u001b[0;34m.\u001b[0m\u001b[0maudit\u001b[0m\u001b[0;34m(\u001b[0m\u001b[0;34m'urllib.Request'\u001b[0m\u001b[0;34m,\u001b[0m \u001b[0mreq\u001b[0m\u001b[0;34m.\u001b[0m\u001b[0mfull_url\u001b[0m\u001b[0;34m,\u001b[0m \u001b[0mreq\u001b[0m\u001b[0;34m.\u001b[0m\u001b[0mdata\u001b[0m\u001b[0;34m,\u001b[0m \u001b[0mreq\u001b[0m\u001b[0;34m.\u001b[0m\u001b[0mheaders\u001b[0m\u001b[0;34m,\u001b[0m \u001b[0mreq\u001b[0m\u001b[0;34m.\u001b[0m\u001b[0mget_method\u001b[0m\u001b[0;34m(\u001b[0m\u001b[0;34m)\u001b[0m\u001b[0;34m)\u001b[0m\u001b[0;34m\u001b[0m\u001b[0;34m\u001b[0m\u001b[0m\n\u001b[0;32m--> 517\u001b[0;31m         \u001b[0mresponse\u001b[0m \u001b[0;34m=\u001b[0m \u001b[0mself\u001b[0m\u001b[0;34m.\u001b[0m\u001b[0m_open\u001b[0m\u001b[0;34m(\u001b[0m\u001b[0mreq\u001b[0m\u001b[0;34m,\u001b[0m \u001b[0mdata\u001b[0m\u001b[0;34m)\u001b[0m\u001b[0;34m\u001b[0m\u001b[0;34m\u001b[0m\u001b[0m\n\u001b[0m\u001b[1;32m    518\u001b[0m \u001b[0;34m\u001b[0m\u001b[0m\n\u001b[1;32m    519\u001b[0m         \u001b[0;31m# post-process response\u001b[0m\u001b[0;34m\u001b[0m\u001b[0;34m\u001b[0m\u001b[0m\n",
            "\u001b[0;32m~/opt/anaconda3/lib/python3.9/urllib/request.py\u001b[0m in \u001b[0;36m_open\u001b[0;34m(self, req, data)\u001b[0m\n\u001b[1;32m    532\u001b[0m \u001b[0;34m\u001b[0m\u001b[0m\n\u001b[1;32m    533\u001b[0m         \u001b[0mprotocol\u001b[0m \u001b[0;34m=\u001b[0m \u001b[0mreq\u001b[0m\u001b[0;34m.\u001b[0m\u001b[0mtype\u001b[0m\u001b[0;34m\u001b[0m\u001b[0;34m\u001b[0m\u001b[0m\n\u001b[0;32m--> 534\u001b[0;31m         result = self._call_chain(self.handle_open, protocol, protocol +\n\u001b[0m\u001b[1;32m    535\u001b[0m                                   '_open', req)\n\u001b[1;32m    536\u001b[0m         \u001b[0;32mif\u001b[0m \u001b[0mresult\u001b[0m\u001b[0;34m:\u001b[0m\u001b[0;34m\u001b[0m\u001b[0;34m\u001b[0m\u001b[0m\n",
            "\u001b[0;32m~/opt/anaconda3/lib/python3.9/urllib/request.py\u001b[0m in \u001b[0;36m_call_chain\u001b[0;34m(self, chain, kind, meth_name, *args)\u001b[0m\n\u001b[1;32m    492\u001b[0m         \u001b[0;32mfor\u001b[0m \u001b[0mhandler\u001b[0m \u001b[0;32min\u001b[0m \u001b[0mhandlers\u001b[0m\u001b[0;34m:\u001b[0m\u001b[0;34m\u001b[0m\u001b[0;34m\u001b[0m\u001b[0m\n\u001b[1;32m    493\u001b[0m             \u001b[0mfunc\u001b[0m \u001b[0;34m=\u001b[0m \u001b[0mgetattr\u001b[0m\u001b[0;34m(\u001b[0m\u001b[0mhandler\u001b[0m\u001b[0;34m,\u001b[0m \u001b[0mmeth_name\u001b[0m\u001b[0;34m)\u001b[0m\u001b[0;34m\u001b[0m\u001b[0;34m\u001b[0m\u001b[0m\n\u001b[0;32m--> 494\u001b[0;31m             \u001b[0mresult\u001b[0m \u001b[0;34m=\u001b[0m \u001b[0mfunc\u001b[0m\u001b[0;34m(\u001b[0m\u001b[0;34m*\u001b[0m\u001b[0margs\u001b[0m\u001b[0;34m)\u001b[0m\u001b[0;34m\u001b[0m\u001b[0;34m\u001b[0m\u001b[0m\n\u001b[0m\u001b[1;32m    495\u001b[0m             \u001b[0;32mif\u001b[0m \u001b[0mresult\u001b[0m \u001b[0;32mis\u001b[0m \u001b[0;32mnot\u001b[0m \u001b[0;32mNone\u001b[0m\u001b[0;34m:\u001b[0m\u001b[0;34m\u001b[0m\u001b[0;34m\u001b[0m\u001b[0m\n\u001b[1;32m    496\u001b[0m                 \u001b[0;32mreturn\u001b[0m \u001b[0mresult\u001b[0m\u001b[0;34m\u001b[0m\u001b[0;34m\u001b[0m\u001b[0m\n",
            "\u001b[0;32m~/opt/anaconda3/lib/python3.9/urllib/request.py\u001b[0m in \u001b[0;36mhttp_open\u001b[0;34m(self, req)\u001b[0m\n\u001b[1;32m   1373\u001b[0m \u001b[0;34m\u001b[0m\u001b[0m\n\u001b[1;32m   1374\u001b[0m     \u001b[0;32mdef\u001b[0m \u001b[0mhttp_open\u001b[0m\u001b[0;34m(\u001b[0m\u001b[0mself\u001b[0m\u001b[0;34m,\u001b[0m \u001b[0mreq\u001b[0m\u001b[0;34m)\u001b[0m\u001b[0;34m:\u001b[0m\u001b[0;34m\u001b[0m\u001b[0;34m\u001b[0m\u001b[0m\n\u001b[0;32m-> 1375\u001b[0;31m         \u001b[0;32mreturn\u001b[0m \u001b[0mself\u001b[0m\u001b[0;34m.\u001b[0m\u001b[0mdo_open\u001b[0m\u001b[0;34m(\u001b[0m\u001b[0mhttp\u001b[0m\u001b[0;34m.\u001b[0m\u001b[0mclient\u001b[0m\u001b[0;34m.\u001b[0m\u001b[0mHTTPConnection\u001b[0m\u001b[0;34m,\u001b[0m \u001b[0mreq\u001b[0m\u001b[0;34m)\u001b[0m\u001b[0;34m\u001b[0m\u001b[0;34m\u001b[0m\u001b[0m\n\u001b[0m\u001b[1;32m   1376\u001b[0m \u001b[0;34m\u001b[0m\u001b[0m\n\u001b[1;32m   1377\u001b[0m     \u001b[0mhttp_request\u001b[0m \u001b[0;34m=\u001b[0m \u001b[0mAbstractHTTPHandler\u001b[0m\u001b[0;34m.\u001b[0m\u001b[0mdo_request_\u001b[0m\u001b[0;34m\u001b[0m\u001b[0;34m\u001b[0m\u001b[0m\n",
            "\u001b[0;32m~/opt/anaconda3/lib/python3.9/urllib/request.py\u001b[0m in \u001b[0;36mdo_open\u001b[0;34m(self, http_class, req, **http_conn_args)\u001b[0m\n\u001b[1;32m   1347\u001b[0m                           encode_chunked=req.has_header('Transfer-encoding'))\n\u001b[1;32m   1348\u001b[0m             \u001b[0;32mexcept\u001b[0m \u001b[0mOSError\u001b[0m \u001b[0;32mas\u001b[0m \u001b[0merr\u001b[0m\u001b[0;34m:\u001b[0m \u001b[0;31m# timeout error\u001b[0m\u001b[0;34m\u001b[0m\u001b[0;34m\u001b[0m\u001b[0m\n\u001b[0;32m-> 1349\u001b[0;31m                 \u001b[0;32mraise\u001b[0m \u001b[0mURLError\u001b[0m\u001b[0;34m(\u001b[0m\u001b[0merr\u001b[0m\u001b[0;34m)\u001b[0m\u001b[0;34m\u001b[0m\u001b[0;34m\u001b[0m\u001b[0m\n\u001b[0m\u001b[1;32m   1350\u001b[0m             \u001b[0mr\u001b[0m \u001b[0;34m=\u001b[0m \u001b[0mh\u001b[0m\u001b[0;34m.\u001b[0m\u001b[0mgetresponse\u001b[0m\u001b[0;34m(\u001b[0m\u001b[0;34m)\u001b[0m\u001b[0;34m\u001b[0m\u001b[0;34m\u001b[0m\u001b[0m\n\u001b[1;32m   1351\u001b[0m         \u001b[0;32mexcept\u001b[0m\u001b[0;34m:\u001b[0m\u001b[0;34m\u001b[0m\u001b[0;34m\u001b[0m\u001b[0m\n",
            "\u001b[0;31mURLError\u001b[0m: <urlopen error [Errno 61] Connection refused>"
          ]
        }
      ],
      "source": [
        "# Get all artists from Intavia bionet \n",
        "\n",
        "myquery = \"Mondriaan\"\n",
        "\n",
        "sparql = SPARQLWrapper(\"http://130.37.53.36:6789/sparql\")\n",
        "sparql.setQuery(\"\"\"\n",
        "SELECT ?person (GROUP_CONCAT(?namelabel;SEPARATOR=\";\") AS ?names) (GROUP_CONCAT(?tslab;SEPARATOR=\";\") AS ?tslabs) WHERE {\n",
        "    ?s bioc:has_occupation bgn:Occupation-schilder.\n",
        "    ?s idm:person_proxy_for ?person.\n",
        "    ?s crm:P1_is_identified_by ?name .\n",
        "    ?name rdf:type crm:E33_E41_Linguistic_Appellation . \n",
        "    ?name rdfs:label ?namelabel . \n",
        "    OPTIONAL {\n",
        "     ?bev crm:P98_brought_into_life ?s .\n",
        "     ?bev crm:P4_has_time-span ?ts.\n",
        "     ?ts rdfs:label ?tslab}\n",
        "}\n",
        "GROUP BY ?person\n",
        "\n",
        "\"\"\")\n",
        "sparql.setReturnFormat(JSON)\n",
        "bionetresults = sparql.query().convert()\n",
        "for result in bionetresults[\"results\"][\"bindings\"]:\n",
        "    print(result[\"person\"][\"value\"] + '\\t' + result[\"names\"][\"value\"] + '\\t' + result[\"tslabs\"][\"value\"])  \n",
        "    print()"
      ]
    },
    {
      "cell_type": "code",
      "execution_count": 4,
      "metadata": {
        "colab": {
          "background_save": true
        },
        "id": "q5B3zMKY9P_M"
      },
      "outputs": [],
      "source": [
        "# For a string, return a set of wikidata ids of things that are artists\n",
        "\n",
        "def lookupnameInWikidata(name):\n",
        "    resultlist = []\n",
        "    sparql = SPARQLWrapper(\"https://query.wikidata.org/sparql\")\n",
        "    sparql.setQuery(\"\"\"\n",
        "        SELECT DISTINCT * WHERE { \n",
        "        SERVICE wikibase:mwapi \n",
        "              { bd:serviceParam wikibase:api \"EntitySearch\" . \n",
        "               bd:serviceParam wikibase:endpoint \"www.wikidata.org\" . \n",
        "               bd:serviceParam mwapi:search \" \"\"\" +name+ \"\"\"\". \n",
        "               bd:serviceParam mwapi:language \"en\" . \n",
        "               ?item wikibase:apiOutputItem mwapi:item . \n",
        "               ?num wikibase:apiOrdinal true . } \n",
        "        ?item wdt:P106/wdt:P279* wd:Q483501 .\n",
        "        } ORDER BY ?item\n",
        "    \"\"\")\n",
        "    sparql.setReturnFormat(JSON)\n",
        "    wikidataresults = sparql.query().convert()\n",
        "    for result in wikidataresults[\"results\"][\"bindings\"]:\n",
        "        resultlist.append(result[\"item\"][\"value\"])\n",
        "    return resultlist"
      ]
    },
    {
      "cell_type": "code",
      "execution_count": 5,
      "metadata": {
        "id": "vonUgKTF9P_N",
        "scrolled": false
      },
      "outputs": [
        {
          "ename": "NameError",
          "evalue": "name 'bionetresults' is not defined",
          "output_type": "error",
          "traceback": [
            "\u001b[0;31m---------------------------------------------------------------------------\u001b[0m",
            "\u001b[0;31mNameError\u001b[0m                                 Traceback (most recent call last)",
            "\u001b[0;32m/var/folders/fy/fvjdlg5s0sg6gkpfmpd6klp00000gn/T/ipykernel_30026/384588060.py\u001b[0m in \u001b[0;36m<module>\u001b[0;34m\u001b[0m\n\u001b[1;32m      3\u001b[0m \u001b[0moffset\u001b[0m\u001b[0;34m=\u001b[0m\u001b[0;36m102\u001b[0m\u001b[0;34m\u001b[0m\u001b[0;34m\u001b[0m\u001b[0m\n\u001b[1;32m      4\u001b[0m \u001b[0mi\u001b[0m\u001b[0;34m=\u001b[0m\u001b[0;36m0\u001b[0m\u001b[0;34m\u001b[0m\u001b[0;34m\u001b[0m\u001b[0m\n\u001b[0;32m----> 5\u001b[0;31m \u001b[0;32mfor\u001b[0m \u001b[0martist\u001b[0m \u001b[0;32min\u001b[0m \u001b[0mbionetresults\u001b[0m\u001b[0;34m[\u001b[0m\u001b[0;34m\"results\"\u001b[0m\u001b[0;34m]\u001b[0m\u001b[0;34m[\u001b[0m\u001b[0;34m\"bindings\"\u001b[0m\u001b[0;34m]\u001b[0m\u001b[0;34m:\u001b[0m\u001b[0;34m\u001b[0m\u001b[0;34m\u001b[0m\u001b[0m\n\u001b[0m\u001b[1;32m      6\u001b[0m     \u001b[0;32mif\u001b[0m \u001b[0mi\u001b[0m \u001b[0;34m>=\u001b[0m \u001b[0moffset\u001b[0m\u001b[0;34m:\u001b[0m\u001b[0;34m\u001b[0m\u001b[0;34m\u001b[0m\u001b[0m\n\u001b[1;32m      7\u001b[0m         \u001b[0monename\u001b[0m \u001b[0;34m=\u001b[0m \u001b[0martist\u001b[0m\u001b[0;34m[\u001b[0m\u001b[0;34m\"names\"\u001b[0m\u001b[0;34m]\u001b[0m\u001b[0;34m[\u001b[0m\u001b[0;34m\"value\"\u001b[0m\u001b[0;34m]\u001b[0m\u001b[0;34m\u001b[0m\u001b[0;34m\u001b[0m\u001b[0m\n",
            "\u001b[0;31mNameError\u001b[0m: name 'bionetresults' is not defined"
          ]
        }
      ],
      "source": [
        "# Main lookup loop\n",
        "\n",
        "offset=102\n",
        "i=0\n",
        "for artist in bionetresults[\"results\"][\"bindings\"]:\n",
        "    if i >= offset:\n",
        "        onename = artist[\"names\"][\"value\"]\n",
        "        namesplit = onename.split(';')\n",
        "        if len(namesplit) > 0: \n",
        "            for namevar in namesplit:\n",
        "                if ',' in namevar:\n",
        "                    namevarlist = namevar.split(',')\n",
        "                    newnamevar = namevarlist[1]+namevarlist[0]\n",
        "                else: \n",
        "                    newnamevar = namevar\n",
        "                print(\"--\" + newnamevar + \"--\")\n",
        "                print(str(i) + '\\t' + artist[\"person\"][\"value\"] + '\\t' + artist[\"names\"][\"value\"] + '\\t' + artist[\"tslabs\"][\"value\"] + '\\t' + newnamevar + '\\t' + str(lookupnameInWikidata(newnamevar)))\n",
        "                sleep(randint(5,8))\n",
        "    i=i+1\n"
      ]
    },
    {
      "cell_type": "markdown",
      "metadata": {
        "id": "AOYDBJJT9P_R"
      },
      "source": [
        "\n",
        " "
      ]
    },
    {
      "cell_type": "code",
      "execution_count": 6,
      "metadata": {
        "id": "RZ7Xea-j9P_S",
        "outputId": "ee190d65-000b-439a-c7f7-795a552197b6"
      },
      "outputs": [
        {
          "ename": "NameError",
          "evalue": "name 'bionetresults' is not defined",
          "output_type": "error",
          "traceback": [
            "\u001b[0;31m---------------------------------------------------------------------------\u001b[0m",
            "\u001b[0;31mNameError\u001b[0m                                 Traceback (most recent call last)",
            "\u001b[0;32m/var/folders/fy/fvjdlg5s0sg6gkpfmpd6klp00000gn/T/ipykernel_30026/1646892432.py\u001b[0m in \u001b[0;36m<module>\u001b[0;34m\u001b[0m\n\u001b[0;32m----> 1\u001b[0;31m \u001b[0mprint\u001b[0m\u001b[0;34m(\u001b[0m\u001b[0mlen\u001b[0m\u001b[0;34m(\u001b[0m\u001b[0mbionetresults\u001b[0m\u001b[0;34m[\u001b[0m\u001b[0;34m\"results\"\u001b[0m\u001b[0;34m]\u001b[0m\u001b[0;34m[\u001b[0m\u001b[0;34m\"bindings\"\u001b[0m\u001b[0;34m]\u001b[0m\u001b[0;34m)\u001b[0m\u001b[0;34m)\u001b[0m\u001b[0;34m\u001b[0m\u001b[0;34m\u001b[0m\u001b[0m\n\u001b[0m",
            "\u001b[0;31mNameError\u001b[0m: name 'bionetresults' is not defined"
          ]
        }
      ],
      "source": [
        "print(len(bionetresults[\"results\"][\"bindings\"]))\n"
      ]
    },
    {
      "cell_type": "markdown",
      "metadata": {
        "id": "yfk6WXYk9P_T"
      },
      "source": [
        "# Get artworks and some metadata from wikidata"
      ]
    },
    {
      "cell_type": "code",
      "execution_count": 7,
      "metadata": {
        "id": "cjGxGgxb9P_T",
        "outputId": "bf15cd6f-641d-4428-f96b-0bf174011b83"
      },
      "outputs": [
        {
          "name": "stdout",
          "output_type": "stream",
          "text": [
            "@prefix wd: <http://www.wikidata.org/entity/> .\n",
            "@prefix wdt: <http://www.wikidata.org/prop/direct/> .\n",
            "@prefix xsd: <http://www.w3.org/2001/XMLSchema#> .\n",
            "\n",
            "wd:Q1025704 wdt:P1476 \"Terrasse du café le soir\"@fr ;\n",
            "    wdt:P170 wd:Q5582 ;\n",
            "    wdt:P18 <http://commons.wikimedia.org/wiki/Special:FilePath/Vincent%20van%20Gogh%20%281853-1890%29%20Caf%C3%A9terras%20bij%20nacht%20%28place%20du%20Forum%29%20Kr%C3%B6ller-M%C3%BCller%20Museum%20Otterlo%2023-8-2016%2013-35-40.JPG> ;\n",
            "    wdt:P571 \"1888-09-01T00:00:00+00:00\"^^xsd:dateTime .\n",
            "\n",
            "wd:Q1057817 wdt:P1476 \"Woman with a Pink\"@en ;\n",
            "    wdt:P170 wd:Q5598 ;\n",
            "    wdt:P18 <http://commons.wikimedia.org/wiki/Special:FilePath/Woman%20with%20a%20Pink%20MET%20DP145910.jpg> ;\n",
            "    wdt:P571 \"1660-01-01T00:00:00+00:00\"^^xsd:dateTime .\n",
            "\n",
            "wd:Q1134060 wdt:P1476 \"Susanna en de oudsten\"@nl ;\n",
            "    wdt:P170 wd:Q5599 ;\n",
            "    wdt:P18 <http://commons.wikimedia.org/wiki/Special:FilePath/Rubens%20Susanna.jpg> ;\n",
            "    wdt:P571 \"1607-01-01T00:00:00+00:00\"^^xsd:dateTime .\n",
            "\n",
            "wd:Q1134250 wdt:P1476 \"Bethlehemitischer Kindermord\"@de,\n",
            "        \"Massacre of the Innocents\"@en,\n",
            "        \"The Massacre of the Innocents\"@en ;\n",
            "    wdt:P170 wd:Q43270 ;\n",
            "    wdt:P18 <http://commons.wikimedia.org/wiki/Special:FilePath/BRUEGEL%20the%20Elder%2C%20Pieter%20-%20Massacre%20of%20the%20Innocents%20%281565-7%29.JPG>,\n",
            "        <http://commons.wikimedia.org/wiki/Special:FilePath/Pieter%20Bruegel%20the%20Elder%20%28c.%201525-1569%29%20-%20Massacre%20of%20the%20Innocents%20-%20RCIN%20405787%20-%20Royal%20Collection.jpg>,\n",
            "        <http://commons.wikimedia.org/wiki/Special:FilePath/Pieter%20Bruegel%20the%20Elder%20-%20Massacre%20of%20the%20Innocents%20-%20Google%20Art%20Project.jpg> ;\n",
            "    wdt:P571 \"1565-01-01T00:00:00+00:00\"^^xsd:dateTime .\n",
            "\n",
            "wd:Q1150782 wdt:P1476 \"Portrait of a Man (\\\\\"@en ;\n",
            "    wdt:P170 wd:Q102272 ;\n",
            "    wdt:P18 <http://commons.wikimedia.org/wiki/Special:FilePath/Jan%20van%20Eyck%20-%20L%C3%A9al%20Souvenir%20-%20National%20Gallery%2C%20London.jpg> ;\n",
            "    wdt:P571 \"1432-01-01T00:00:00+00:00\"^^xsd:dateTime .\n",
            "\n",
            "wd:Q1169395 wdt:P1476 \"The Concert\"@en ;\n",
            "    wdt:P170 wd:Q41264 ;\n",
            "    wdt:P18 <http://commons.wikimedia.org/wiki/Special:FilePath/Vermeer%20The%20Concert.jpg> ;\n",
            "    wdt:P571 \"1663-01-01T00:00:00+00:00\"^^xsd:dateTime .\n",
            "\n",
            "wd:Q1169954 wdt:P1476 \"Daß Narrenſchyff Ad Narragoniā\"@de ;\n",
            "    wdt:P170 wd:Q5580 ;\n",
            "    wdt:P18 <http://commons.wikimedia.org/wiki/Special:FilePath/Narrenschiff.jpg> ;\n",
            "    wdt:P571 \"1494-01-01T00:00:00+00:00\"^^xsd:dateTime .\n",
            "\n",
            "wd:Q636537 wdt:P1476 \"Death of Marat\"@en,\n",
            "        \"Marat assassinated\"@en,\n",
            "        \"La Mort de Marat\"@fr,\n",
            "        \"Marat assassiné\"@fr ;\n",
            "    wdt:P170 wd:Q83155 ;\n",
            "    wdt:P18 <http://commons.wikimedia.org/wiki/Special:FilePath/Jacques-Louis%20David%20-%20Marat%20assassinated%20-%20Google%20Art%20Project%202.jpg> ;\n",
            "    wdt:P571 \"1793-10-01T00:00:00+00:00\"^^xsd:dateTime .\n",
            "\n",
            "wd:Q641666 wdt:P1476 \"Woman Writing a Letter, with her Maid\"@en ;\n",
            "    wdt:P170 wd:Q41264 ;\n",
            "    wdt:P18 <http://commons.wikimedia.org/wiki/Special:FilePath/Woman%20writing%20a%20letter%2C%20with%20her%20maid%2C%20by%20Johannes%20Vermeer.jpg> ;\n",
            "    wdt:P571 \"1670-01-01T00:00:00+00:00\"^^xsd:dateTime .\n",
            "\n",
            "wd:Q644856 wdt:P1476 \"The Triumph of Death\"@en ;\n",
            "    wdt:P170 wd:Q43270 ;\n",
            "    wdt:P18 <http://commons.wikimedia.org/wiki/Special:FilePath/The%20Triumph%20of%20Death%20by%20Pieter%20Bruegel%20the%20Elder.jpg> ;\n",
            "    wdt:P571 \"1562-01-01T00:00:00+00:00\"^^xsd:dateTime .\n",
            "\n",
            "wd:Q644936 wdt:P1476 \"Raub der Töchter des Leukippos\"@de,\n",
            "        \"The Rape of the Daughters of Leuccipus\"@en ;\n",
            "    wdt:P170 wd:Q1375268,\n",
            "        wd:Q5599 ;\n",
            "    wdt:P18 <http://commons.wikimedia.org/wiki/Special:FilePath/Peter%20Paul%20Rubens%20%26%20Jan%20Wildens%20-%20De%20ontvoering%20van%20de%20Dochters%20van%20Leucippus.jpg> ;\n",
            "    wdt:P571 \"1618-01-01T00:00:00+00:00\"^^xsd:dateTime .\n",
            "\n",
            "wd:Q647202 wdt:P1476 \"Hoofd van Medusa\"@nl ;\n",
            "    wdt:P170 wd:Q5599 ;\n",
            "    wdt:P18 <http://commons.wikimedia.org/wiki/Special:FilePath/Peter%20Paul%20Rubens%2C%20%2C%20Kunsthistorisches%20Museum%20Wien%2C%20Gem%C3%A4ldegalerie%20-%20Haupt%20der%20Medusa%20-%20GG%203834%20-%20Kunsthistorisches%20Museum.jpg>,\n",
            "        <http://commons.wikimedia.org/wiki/Special:FilePath/Rubens%20Medusa.jpeg> ;\n",
            "    wdt:P571 \"1618-01-01T00:00:00+00:00\"^^xsd:dateTime .\n",
            "\n",
            "wd:Q650086 wdt:P1476 \"L'Ânesse du prophète Balaam\"@fr ;\n",
            "    wdt:P170 wd:Q5598 ;\n",
            "    wdt:P18 <http://commons.wikimedia.org/wiki/Special:FilePath/P1150002%20Cognacq-Jay%20Rembrandt%20anesse%20de%20Balaam%20rwk.jpg> ;\n",
            "    wdt:P571 \"1626-01-01T00:00:00+00:00\"^^xsd:dateTime .\n",
            "\n",
            "wd:Q650526 wdt:P1476 \"Landscape with a Carriage and a Train\"@en ;\n",
            "    wdt:P170 wd:Q5582 ;\n",
            "    wdt:P18 <http://commons.wikimedia.org/wiki/Special:FilePath/Vincent%20van%20Gogh%20-%20Landscape%20with%20Carriage%20and%20Train%20in%20the%20Background%20%281890%29.jpg> ;\n",
            "    wdt:P571 \"1890-01-01T00:00:00+00:00\"^^xsd:dateTime .\n",
            "\n",
            "wd:Q650635 wdt:P1476 \"A Militiaman Holding a Berkemeyer, Known as the ‘Merry Drinker’\"@en,\n",
            "        \"Een schutter die een berkenmeier vasthoudt, bekend als ‘De vrolijke drinker’\"@nl ;\n",
            "    wdt:P170 wd:Q167654 ;\n",
            "    wdt:P18 <http://commons.wikimedia.org/wiki/Special:FilePath/Frans%20Hals%20002.jpg> ;\n",
            "    wdt:P571 \"1629-01-01T00:00:00+00:00\"^^xsd:dateTime .\n",
            "\n",
            "wd:Q653607 wdt:P1476 \"Girl Eating Oysters\"@en,\n",
            "        \"‘Het oestereetstertje’\"@nl ;\n",
            "    wdt:P170 wd:Q205863 ;\n",
            "    wdt:P18 <http://commons.wikimedia.org/wiki/Special:FilePath/Jan%20Steen%20-%20Girl%20Eating%20Oysters%20-%20818%20-%20Mauritshuis.jpg>,\n",
            "        <http://commons.wikimedia.org/wiki/Special:FilePath/Jan%20Steen%20008.jpg> ;\n",
            "    wdt:P571 \"1658-01-01T00:00:00+00:00\"^^xsd:dateTime .\n",
            "\n",
            "wd:Q661378 wdt:P1476 \"The Anatomy Lesson of Dr Nicolaes Tulp\"@en,\n",
            "        \"De anatomische les van Dr Nicolaes Tulp\"@nl ;\n",
            "    wdt:P170 wd:Q5598 ;\n",
            "    wdt:P18 <http://commons.wikimedia.org/wiki/Special:FilePath/Rembrandt%20van%20Rijn%20-%20The%20Anatomy%20Lesson%20of%20Dr%20Nicolaes%20Tulp%20-%20146%20-%20Mauritshuis.jpg> ;\n",
            "    wdt:P571 \"1632-01-01T00:00:00+00:00\"^^xsd:dateTime .\n",
            "\n",
            "wd:Q664038 wdt:P1476 \"Marter der zehntausend Christen\"@de ;\n",
            "    wdt:P170 wd:Q5580 ;\n",
            "    wdt:P18 <http://commons.wikimedia.org/wiki/Special:FilePath/Albrecht%20D%C3%BCrer%20-%20Marter%20der%20zehntausend%20Christen%20%28Yorck%20Project%29.jpg> ;\n",
            "    wdt:P571 \"1508-01-01T00:00:00+00:00\"^^xsd:dateTime .\n",
            "\n",
            "wd:Q665337 wdt:P1476 \"Bekehrung Pauli\"@de ;\n",
            "    wdt:P170 wd:Q43270 ;\n",
            "    wdt:P18 <http://commons.wikimedia.org/wiki/Special:FilePath/Pieter%20Bruegel%20d.%20%C3%84.%20019.jpg> ;\n",
            "    wdt:P571 \"1567-01-01T00:00:00+00:00\"^^xsd:dateTime .\n",
            "\n",
            "wd:Q666982 wdt:P1476 \"Bauer und Vogeldieb\"@de ;\n",
            "    wdt:P170 wd:Q43270 ;\n",
            "    wdt:P18 <http://commons.wikimedia.org/wiki/Special:FilePath/Pieter%20Bruegel%20d.%20%C3%84.%20036.jpg>,\n",
            "        <http://commons.wikimedia.org/wiki/Special:FilePath/Pieter%20Bruegel%20d.%20%C3%84.%2C%20%2C%20Kunsthistorisches%20Museum%20Wien%2C%20Gem%C3%A4ldegalerie%20-%20Bauer%20und%20Vogeldieb%20-%20GG%201020%20-%20Kunsthistorisches%20Museum.jpg> ;\n",
            "    wdt:P571 \"1568-01-01T00:00:00+00:00\"^^xsd:dateTime .\n",
            "\n",
            "wd:Q674846 wdt:P1476 \"Le café de nuit (The Night Café)\"@en,\n",
            "        \"The Night Café\"@en,\n",
            "        \"Het nachtcafé\"@nl ;\n",
            "    wdt:P170 wd:Q5582 ;\n",
            "    wdt:P18 <http://commons.wikimedia.org/wiki/Special:FilePath/Vincent%20Willem%20van%20Gogh%20076.jpg> ;\n",
            "    wdt:P571 \"1888-09-01T00:00:00+00:00\"^^xsd:dateTime .\n",
            "\n",
            "wd:Q680128 wdt:P1476 \"Christ Carrying the Cross\"@en ;\n",
            "    wdt:P170 wd:Q130531 ;\n",
            "    wdt:P18 <http://commons.wikimedia.org/wiki/Special:FilePath/Jheronimus%20Bosch%20or%20follower%20001.jpg> ;\n",
            "    wdt:P571 \"1510-01-01T00:00:00+00:00\"^^xsd:dateTime,\n",
            "        \"1515-01-01T00:00:00+00:00\"^^xsd:dateTime .\n",
            "\n",
            "wd:Q686107 wdt:P1476 \"Kreuztragung Christi\"@de ;\n",
            "    wdt:P170 wd:Q43270 ;\n",
            "    wdt:P18 <http://commons.wikimedia.org/wiki/Special:FilePath/Pieter%20Bruegel%20d.%20%C3%84.%20007b.jpg> ;\n",
            "    wdt:P571 \"1564-01-01T00:00:00+00:00\"^^xsd:dateTime .\n",
            "\n",
            "wd:Q688870 wdt:P1476 \"Allerheiligenbild (\\\"Landauer Altar\\\")\"@de ;\n",
            "    wdt:P170 wd:Q5580 ;\n",
            "    wdt:P18 <http://commons.wikimedia.org/wiki/Special:FilePath/Albrecht%20D%C3%BCrer%20-%20Adoration%20of%20the%20Trinity%20%28Landauer%20Altar%29%20-%20Google%20Art%20Project.jpg>,\n",
            "        <http://commons.wikimedia.org/wiki/Special:FilePath/Albrecht%20D%C3%BCrer%2C%20%2C%20Kunsthistorisches%20Museum%20Wien%2C%20Gem%C3%A4ldegalerie%20-%20Allerheiligenbild%20%28%22Landauer%20Altar%22%29%20-%20GG%20838%20-%20Kunsthistorisches%20Museum.jpg> ;\n",
            "    wdt:P571 \"1511-01-01T00:00:00+00:00\"^^xsd:dateTime .\n",
            "\n",
            "wd:Q689236 wdt:P1476 \"Kampf zwischen Fasching und Fasten\"@de ;\n",
            "    wdt:P170 wd:Q43270 ;\n",
            "    wdt:P18 <http://commons.wikimedia.org/wiki/Special:FilePath/Pieter%20Bruegel%20d.%20%C3%84.%20066.jpg> ;\n",
            "    wdt:P571 \"1559-01-01T00:00:00+00:00\"^^xsd:dateTime .\n",
            "\n",
            "wd:Q690637 wdt:P1476 \"Still life with Bible\"@en ;\n",
            "    wdt:P170 wd:Q5582 ;\n",
            "    wdt:P18 <http://commons.wikimedia.org/wiki/Special:FilePath/Still%20life%20with%20Bible.jpg>,\n",
            "        <http://commons.wikimedia.org/wiki/Special:FilePath/Van%20Gogh%20-%20Stillleben%20mit%20Bibel.jpeg> ;\n",
            "    wdt:P571 \"1885-01-01T00:00:00+00:00\"^^xsd:dateTime .\n",
            "\n",
            "wd:Q697332 wdt:P1476 \"Children’s Games\"@en ;\n",
            "    wdt:P170 wd:Q43270 ;\n",
            "    wdt:P18 <http://commons.wikimedia.org/wiki/Special:FilePath/Pieter%20Bruegel%20d.%20%C3%84.%20041b.jpg> ;\n",
            "    wdt:P571 \"1560-01-01T00:00:00+00:00\"^^xsd:dateTime .\n",
            "\n",
            "wd:Q698219 wdt:P1476 \"Düsterer Tag (Vorfrühling)\"@de ;\n",
            "    wdt:P170 wd:Q43270 ;\n",
            "    wdt:P18 <http://commons.wikimedia.org/wiki/Special:FilePath/Pieter%20Bruegel%20de%20Oude%20-%20De%20sombere%20dag%20%28vroege%20voorjaar%29.jpg>,\n",
            "        <http://commons.wikimedia.org/wiki/Special:FilePath/Pieter%20Bruegel%20the%20Elder%20-%20Gloomy%20Day%20%28February%29%20-%20WGA3438.jpg> ;\n",
            "    wdt:P571 \"1565-01-01T00:00:00+00:00\"^^xsd:dateTime .\n",
            "\n",
            "wd:Q698254 wdt:P1476 \"De terugkeer van de kudde\"@nl ;\n",
            "    wdt:P170 wd:Q43270 ;\n",
            "    wdt:P18 <http://commons.wikimedia.org/wiki/Special:FilePath/Pieter%20Bruegel%20d.%20%C3%84.%2C%20%2C%20Kunsthistorisches%20Museum%20Wien%2C%20Gem%C3%A4ldegalerie%20-%20Heimkehr%20der%20Herde%20%28Herbst%29%20-%20GG%201018%20-%20Kunsthistorisches%20Museum.jpg> ;\n",
            "    wdt:P571 \"1565-01-01T00:00:00+00:00\"^^xsd:dateTime .\n",
            "\n",
            "wd:Q699388 wdt:P1476 \"Feldhase\"@de ;\n",
            "    wdt:P170 wd:Q5580 ;\n",
            "    wdt:P18 <http://commons.wikimedia.org/wiki/Special:FilePath/Albrecht%20D%C3%BCrer%20-%20Hare%2C%201502%20-%20Google%20Art%20Project.jpg> ;\n",
            "    wdt:P571 \"1502-01-01T00:00:00+00:00\"^^xsd:dateTime .\n",
            "\n",
            "wd:Q700251 wdt:P1476 \"Girl Reading a Letter by an Open Window\"@en ;\n",
            "    wdt:P170 wd:Q41264 ;\n",
            "    wdt:P18 <http://commons.wikimedia.org/wiki/Special:FilePath/Vermeer%20-%20Girl%20reading%20a%20letter%20at%20a%20window%2C%20Dresden%2C%202021%20Cupid%20restoration.jpg> ;\n",
            "    wdt:P571 \"1658-01-01T00:00:00+00:00\"^^xsd:dateTime .\n",
            "\n",
            "wd:Q724377 wdt:P1476 \"La Chambre à Arles\"@fr,\n",
            "        \"Slaapkamer te Arles\"@nl ;\n",
            "    wdt:P170 wd:Q5582 ;\n",
            "    wdt:P18 <http://commons.wikimedia.org/wiki/Special:FilePath/Vincent%20van%20Gogh%20-%20De%20slaapkamer%20-%20Google%20Art%20Project.jpg> ;\n",
            "    wdt:P571 \"1888-10-01T00:00:00+00:00\"^^xsd:dateTime .\n",
            "\n",
            "wd:Q734834 wdt:P1476 \"The Ghent Altarpiece\"@en,\n",
            "        \"Déus Het Lam\"@nl ;\n",
            "    wdt:P170 wd:Q102272,\n",
            "        wd:Q364350 ;\n",
            "    wdt:P18 <http://commons.wikimedia.org/wiki/Special:FilePath/Lamgods%20open.jpg> ;\n",
            "    wdt:P571 \"1432-01-01T00:00:00+00:00\"^^xsd:dateTime .\n",
            "\n",
            "wd:Q735061 wdt:P1476 \"The Love Letter\"@en,\n",
            "        \"De liefdesbrief\"@nl ;\n",
            "    wdt:P170 wd:Q41264 ;\n",
            "    wdt:P18 <http://commons.wikimedia.org/wiki/Special:FilePath/Johannes%20Vermeer%20-%20%27De%20liefdesbrief%27%20-%20Google%20Art%20Project.jpg> ;\n",
            "    wdt:P571 \"1668-01-01T00:00:00+00:00\"^^xsd:dateTime .\n",
            "\n",
            "wd:Q748518 wdt:P1476 \"Rhinocerus\"@la ;\n",
            "    wdt:P170 wd:Q5580 ;\n",
            "    wdt:P18 <http://commons.wikimedia.org/wiki/Special:FilePath/Albrecht%20D%C3%BCrer%20-%20The%20Rhinoceros%20-%201993.9%20-%20Cleveland%20Museum%20of%20Art.tif>,\n",
            "        <http://commons.wikimedia.org/wiki/Special:FilePath/Albrecht%20D%C3%BCrer%2C%20The%20Rhinoceros%2C%201515%2C%20NGA%2047903.jpg> ;\n",
            "    wdt:P571 \"1515-01-01T00:00:00+00:00\"^^xsd:dateTime .\n",
            "\n",
            "wd:Q764831 wdt:P1476 \"The Feast of St Nicholas\"@en,\n",
            "        \"Het Sint-Nicolaasfeest\"@nl ;\n",
            "    wdt:P170 wd:Q205863 ;\n",
            "    wdt:P18 <http://commons.wikimedia.org/wiki/Special:FilePath/Jan%20Havicksz.%20Steen%20%E2%80%93%20Het%20Sint-Nicolaasfeest%20%E2%80%93%20Google%20Art%20Project.jpg> ;\n",
            "    wdt:P571 \"1665-01-01T00:00:00+00:00\"^^xsd:dateTime .\n",
            "\n",
            "wd:Q766782 wdt:P1476 \"Isaac and Rebecca, Known as ‘The Jewish Bride’\"@en,\n",
            "        \"The Jewish Bride\"@en,\n",
            "        \"Isaak en Rebekka, bekend als ‘Het Joodse bruidje’\"@nl ;\n",
            "    wdt:P170 wd:Q5598 ;\n",
            "    wdt:P18 <http://commons.wikimedia.org/wiki/Special:FilePath/Rembrandt%20Harmensz.%20van%20Rijn%20-%20Portret%20van%20een%20paar%20als%20oudtestamentische%20figuren%2C%20genaamd%20%27Het%20Joodse%20bruidje%27%20-%20Google%20Art%20Project.jpg> ;\n",
            "    wdt:P571 \"1667-01-01T00:00:00+00:00\"^^xsd:dateTime,\n",
            "        \"1668-01-01T00:00:00+00:00\"^^xsd:dateTime .\n",
            "\n",
            "wd:Q768333 wdt:P1476 \"Rembrandt’s Son Titus in a Monk’s Habit\"@en,\n",
            "        \"Rembrandts zoon Titus in monniksdracht\"@nl ;\n",
            "    wdt:P170 wd:Q5598 ;\n",
            "    wdt:P18 <http://commons.wikimedia.org/wiki/Special:FilePath/Rembrandt%20Harmensz.%20van%20Rijn%20103.jpg> ;\n",
            "    wdt:P571 \"1660-01-01T00:00:00+00:00\"^^xsd:dateTime .\n",
            "\n",
            "wd:Q776175 wdt:P1476 \"The Harvesters\"@en ;\n",
            "    wdt:P170 wd:Q43270 ;\n",
            "    wdt:P18 <http://commons.wikimedia.org/wiki/Special:FilePath/Pieter%20Bruegel%20de%20Oude%20-%20De%20graanoogst.jpg>,\n",
            "        <http://commons.wikimedia.org/wiki/Special:FilePath/Pieter%20Bruegel%20the%20Elder-%20The%20Harvesters%20-%20Google%20Art%20Project.jpg> ;\n",
            "    wdt:P571 \"1565-01-01T00:00:00+00:00\"^^xsd:dateTime .\n",
            "\n",
            "wd:Q829270 wdt:P1476 \"Vier Apostel: Hll. Johannes Ev. und Petrus\"@de,\n",
            "        \"The Four Apostles\"@en ;\n",
            "    wdt:P170 wd:Q5580 ;\n",
            "    wdt:P18 <http://commons.wikimedia.org/wiki/Special:FilePath/Vier%20Apostel%20%28Albrecht%20Duerer%29.jpg> ;\n",
            "    wdt:P571 \"1526-01-01T00:00:00+00:00\"^^xsd:dateTime .\n",
            "\n",
            "wd:Q835286 wdt:P1476 \"Mars désarmé par Vénus\"@fr ;\n",
            "    wdt:P170 wd:Q83155 ;\n",
            "    wdt:P18 <http://commons.wikimedia.org/wiki/Special:FilePath/Jacques-Louis%20David%20-%20Mars%20desarme%20par%20Venus.JPG> ;\n",
            "    wdt:P571 \"1824-01-01T00:00:00+00:00\"^^xsd:dateTime .\n",
            "\n",
            "wd:Q835699 wdt:P1476 \"Das Große Jüngste Gericht\"@de ;\n",
            "    wdt:P170 wd:Q5599 ;\n",
            "    wdt:P18 <http://commons.wikimedia.org/wiki/Special:FilePath/Peter%20Paul%20Rubens%20-%20The%20Last%20Judgement%20-%20WGA20225.jpg>,\n",
            "        <http://commons.wikimedia.org/wiki/Special:FilePath/TheGreatLastJudgement.jpg> ;\n",
            "    wdt:P571 \"1617-01-01T00:00:00+00:00\"^^xsd:dateTime .\n",
            "\n",
            "wd:Q839359 wdt:P1476 \"Young Woman with a Lute\"@en ;\n",
            "    wdt:P170 wd:Q41264 ;\n",
            "    wdt:P18 <http://commons.wikimedia.org/wiki/Special:FilePath/Vermeer%20-%20Woman%20with%20a%20Lute%20near%20a%20window.jpg> ;\n",
            "    wdt:P571 \"1662-01-01T00:00:00+00:00\"^^xsd:dateTime .\n",
            "\n",
            "wd:Q867510 wdt:P1476 \"Cypresses\"@en ;\n",
            "    wdt:P170 wd:Q5582 ;\n",
            "    wdt:P18 <http://commons.wikimedia.org/wiki/Special:FilePath/Cypresses%20MET%20DP130999.jpg> ;\n",
            "    wdt:P571 \"1889-06-01T00:00:00+00:00\"^^xsd:dateTime .\n",
            "\n",
            "wd:Q874058 wdt:P1476 \"Columba-Altar: Anbetung der Könige\"@de ;\n",
            "    wdt:P170 wd:Q68631 ;\n",
            "    wdt:P18 <http://commons.wikimedia.org/wiki/Special:FilePath/Der%20Dreik%C3%B6nigsaltar%20Rogier%20van%20der%20Weyden.jpg> ;\n",
            "    wdt:P571 \"1450-01-01T00:00:00+00:00\"^^xsd:dateTime .\n",
            "\n",
            "wd:Q880502 wdt:P1476 \"Willem van Heythuysen\"@nl ;\n",
            "    wdt:P170 wd:Q167654 ;\n",
            "    wdt:P18 <http://commons.wikimedia.org/wiki/Special:FilePath/Frans%20Hals%20042.jpg> ;\n",
            "    wdt:P571 \"1625-01-01T00:00:00+00:00\"^^xsd:dateTime .\n",
            "\n",
            "wd:Q881025 wdt:P1476 \"Der Middelburger-Altar / Bladelin-Altar\"@de ;\n",
            "    wdt:P170 wd:Q68631 ;\n",
            "    wdt:P18 <http://commons.wikimedia.org/wiki/Special:FilePath/Rogier%20van%20der%20Weyden%20-%20The%20Middelburg%20Altar%20-%20Google%20Art%20Project.jpg> ;\n",
            "    wdt:P571 \"1445-01-01T00:00:00+00:00\"^^xsd:dateTime .\n",
            "\n",
            "wd:Q886317 wdt:P1476 \"Vase of Flowers in a Window\"@en,\n",
            "        \"Vaas met bloemen in een venster\"@nl ;\n",
            "    wdt:P170 wd:Q459665 ;\n",
            "    wdt:P18 <http://commons.wikimedia.org/wiki/Special:FilePath/Ambrosius%20Bosschaert%20de%20Oude%20-%20Vase%20of%20Flowers%20in%20a%20Window%20-%20679%20-%20Mauritshuis.jpg> ;\n",
            "    wdt:P571 \"1618-01-01T00:00:00+00:00\"^^xsd:dateTime .\n",
            "\n",
            "wd:Q927449 wdt:P1476 \"Christ in the House of Martha and Mary\"@en ;\n",
            "    wdt:P170 wd:Q41264 ;\n",
            "    wdt:P18 <http://commons.wikimedia.org/wiki/Special:FilePath/Johannes%20%28Jan%29%20Vermeer%20-%20Christ%20in%20the%20House%20of%20Martha%20and%20Mary%20-%20Google%20Art%20Project.jpg> ;\n",
            "    wdt:P571 \"1654-01-01T00:00:00+00:00\"^^xsd:dateTime .\n",
            "\n",
            "wd:Q948894 wdt:P1476 \"La Mousmé\"@fr ;\n",
            "    wdt:P170 wd:Q5582 ;\n",
            "    wdt:P18 <http://commons.wikimedia.org/wiki/Special:FilePath/Vangogh%20mousme.jpg> ;\n",
            "    wdt:P571 \"1888-01-01T00:00:00+00:00\"^^xsd:dateTime .\n",
            "\n",
            "wd:Q958088 wdt:P1476 \"Study of a Young Woman\"@en ;\n",
            "    wdt:P170 wd:Q41264 ;\n",
            "    wdt:P18 <http://commons.wikimedia.org/wiki/Special:FilePath/Vermeer-Portrait%20of%20a%20Young%20Woman.jpg> ;\n",
            "    wdt:P571 \"1665-01-01T00:00:00+00:00\"^^xsd:dateTime .\n",
            "\n",
            "wd:Q962603 wdt:P1476 \"Ecce Homo\"@en ;\n",
            "    wdt:P170 wd:Q130531 ;\n",
            "    wdt:P18 <http://commons.wikimedia.org/wiki/Special:FilePath/Workshop%20of%20Jheronimus%20Bosch%20002%20exterior%2001.jpg>,\n",
            "        <http://commons.wikimedia.org/wiki/Special:FilePath/Workshop%20of%20Jheronimus%20Bosch%20002.jpg> ;\n",
            "    wdt:P571 \"1496-01-01T00:00:00+00:00\"^^xsd:dateTime .\n",
            "\n",
            "wd:Q965124 wdt:P1476 \"The Laughing Cavalier\"@en ;\n",
            "    wdt:P170 wd:Q167654 ;\n",
            "    wdt:P18 <http://commons.wikimedia.org/wiki/Special:FilePath/Cavalier%20soldier%20Hals-1624x.jpg> ;\n",
            "    wdt:P571 \"1624-01-01T00:00:00+00:00\"^^xsd:dateTime .\n",
            "\n",
            "wd:Q969367 wdt:P1476 \"Woman Holding a Balance\"@en ;\n",
            "    wdt:P170 wd:Q41264 ;\n",
            "    wdt:P18 <http://commons.wikimedia.org/wiki/Special:FilePath/Johannes%20Vermeer%20-%20Woman%20Holding%20a%20Balance%20-%20Google%20Art%20Project.jpg> ;\n",
            "    wdt:P571 \"1665-01-01T00:00:00+00:00\"^^xsd:dateTime .\n",
            "\n",
            "wd:Q972295 wdt:P1476 \"Léonidas aux Thermopyles\"@fr ;\n",
            "    wdt:P170 wd:Q83155 ;\n",
            "    wdt:P18 <http://commons.wikimedia.org/wiki/Special:FilePath/Le%C3%B3nidas%20en%20las%20Term%C3%B3pilas%2C%20por%20Jacques-Louis%20David.jpg> ;\n",
            "    wdt:P571 \"1814-01-01T00:00:00+00:00\"^^xsd:dateTime .\n",
            "\n",
            "\n"
          ]
        },
        {
          "name": "stderr",
          "output_type": "stream",
          "text": [
            "/Users/gsugimoto/opt/anaconda3/lib/python3.9/site-packages/SPARQLWrapper/Wrapper.py:1315: RuntimeWarning: Format requested was TURTLE, but RDF/XML (application/rdf+xml;charset=utf-8) has been returned by the endpoint\n",
            "  warnings.warn(message % (requested.upper(), format_name, mime), RuntimeWarning)\n"
          ]
        }
      ],
      "source": [
        "import sys\n",
        "from SPARQLWrapper import SPARQLWrapper, JSON, TURTLE\n",
        "\n",
        "endpoint_url = \"https://query.wikidata.org/sparql\"\n",
        "\n",
        "query = \"\"\"CONSTRUCT {?artwork wdt:P170 ?artist . \n",
        "           ?artwork wdt:P18 ?image .\n",
        "           ?artwork wdt:P1476 ?title . \n",
        "          ?artwork wdt:P571 ?date .}\n",
        "WHERE\n",
        "{\n",
        "       ?artist wdt:P651 ?bartist .\n",
        "       ?artwork wdt:P170 ?artist . \n",
        "  \n",
        "OPTIONAL { ?artwork wdt:P18 ?image .\n",
        "       ?artwork wdt:P1476 ?title . \n",
        "       ?artwork wdt:P571 ?date . }\n",
        "}\n",
        "\n",
        "LIMIT 100\n",
        "\n",
        "\"\"\"\n",
        "\n",
        "\n",
        "def get_results(endpoint_url, query):\n",
        "    user_agent = \"WDQS-example Python/%s.%s\" % (sys.version_info[0], sys.version_info[1])\n",
        "    # TODO adjust user agent; see https://w.wiki/CX6\n",
        "    sparql = SPARQLWrapper(endpoint_url, agent=user_agent)\n",
        "    sparql.setQuery(query)\n",
        "    sparql.setReturnFormat(TURTLE)\n",
        "    return sparql.query().convert()\n",
        "\n",
        "\n",
        "results = get_results(endpoint_url, query)\n",
        "\n",
        "print(results.serialize())"
      ]
    },
    {
      "cell_type": "code",
      "execution_count": 8,
      "metadata": {
        "id": "O-KRrZd-9P_U",
        "outputId": "7639c398-4730-4488-ada2-7b29abd6b7c4"
      },
      "outputs": [
        {
          "ename": "ImportError",
          "evalue": "cannot import name 'parse' from 'rdflib' (/Users/gsugimoto/opt/anaconda3/lib/python3.9/site-packages/rdflib/__init__.py)",
          "output_type": "error",
          "traceback": [
            "\u001b[0;31m---------------------------------------------------------------------------\u001b[0m",
            "\u001b[0;31mImportError\u001b[0m                               Traceback (most recent call last)",
            "\u001b[0;32m/var/folders/fy/fvjdlg5s0sg6gkpfmpd6klp00000gn/T/ipykernel_30026/3829053306.py\u001b[0m in \u001b[0;36m<module>\u001b[0;34m\u001b[0m\n\u001b[1;32m      1\u001b[0m \u001b[0;32mimport\u001b[0m \u001b[0mpandas\u001b[0m \u001b[0;32mas\u001b[0m \u001b[0mpd\u001b[0m \u001b[0;31m#for handling csv and csv contents\u001b[0m\u001b[0;34m\u001b[0m\u001b[0;34m\u001b[0m\u001b[0m\n\u001b[0;32m----> 2\u001b[0;31m \u001b[0;32mfrom\u001b[0m \u001b[0mrdflib\u001b[0m \u001b[0;32mimport\u001b[0m \u001b[0mGraph\u001b[0m\u001b[0;34m,\u001b[0m \u001b[0mLiteral\u001b[0m\u001b[0;34m,\u001b[0m \u001b[0mRDF\u001b[0m\u001b[0;34m,\u001b[0m \u001b[0mURIRef\u001b[0m\u001b[0;34m,\u001b[0m \u001b[0mNamespace\u001b[0m\u001b[0;34m,\u001b[0m \u001b[0mparse\u001b[0m \u001b[0;31m#basic RDF handling\u001b[0m\u001b[0;34m\u001b[0m\u001b[0;34m\u001b[0m\u001b[0m\n\u001b[0m\u001b[1;32m      3\u001b[0m \u001b[0;32mfrom\u001b[0m \u001b[0mrdflib\u001b[0m\u001b[0;34m.\u001b[0m\u001b[0mnamespace\u001b[0m \u001b[0;32mimport\u001b[0m \u001b[0mFOAF\u001b[0m \u001b[0;34m,\u001b[0m \u001b[0mXSD\u001b[0m \u001b[0;31m#most common namespaces\u001b[0m\u001b[0;34m\u001b[0m\u001b[0;34m\u001b[0m\u001b[0m\n\u001b[1;32m      4\u001b[0m \u001b[0;32mimport\u001b[0m \u001b[0murllib\u001b[0m\u001b[0;34m.\u001b[0m\u001b[0mparse\u001b[0m \u001b[0;31m#for parsing strings to URI's\u001b[0m\u001b[0;34m\u001b[0m\u001b[0;34m\u001b[0m\u001b[0m\n\u001b[1;32m      5\u001b[0m \u001b[0;34m\u001b[0m\u001b[0m\n",
            "\u001b[0;31mImportError\u001b[0m: cannot import name 'parse' from 'rdflib' (/Users/gsugimoto/opt/anaconda3/lib/python3.9/site-packages/rdflib/__init__.py)"
          ]
        }
      ],
      "source": [
        "import pandas as pd #for handling csv and csv contents\n",
        "from rdflib import Graph, Literal, RDF, URIRef, Namespace, parse #basic RDF handling\n",
        "from rdflib.namespace import FOAF , XSD #most common namespaces\n",
        "import urllib.parse #for parsing strings to URI's\n",
        "\n",
        "df=pd.read_csv('./query2.csv',sep=\",\",quotechar='\"')\n",
        "df # uncomment to check for contents"
      ]
    },
    {
      "cell_type": "code",
      "execution_count": 9,
      "metadata": {
        "id": "zQrJZf8I9P_U",
        "outputId": "699e49ec-01c9-4cd3-89f2-a3fed5d14492"
      },
      "outputs": [
        {
          "ename": "NameError",
          "evalue": "name 'df' is not defined",
          "output_type": "error",
          "traceback": [
            "\u001b[0;31m---------------------------------------------------------------------------\u001b[0m",
            "\u001b[0;31mNameError\u001b[0m                                 Traceback (most recent call last)",
            "\u001b[0;32m/var/folders/fy/fvjdlg5s0sg6gkpfmpd6klp00000gn/T/ipykernel_30026/3093883829.py\u001b[0m in \u001b[0;36m<module>\u001b[0;34m\u001b[0m\n\u001b[1;32m      1\u001b[0m \u001b[0mg\u001b[0m \u001b[0;34m=\u001b[0m \u001b[0mGraph\u001b[0m\u001b[0;34m(\u001b[0m\u001b[0;34m)\u001b[0m\u001b[0;34m\u001b[0m\u001b[0;34m\u001b[0m\u001b[0m\n\u001b[1;32m      2\u001b[0m \u001b[0;34m\u001b[0m\u001b[0m\n\u001b[0;32m----> 3\u001b[0;31m \u001b[0;32mfor\u001b[0m \u001b[0mindex\u001b[0m\u001b[0;34m,\u001b[0m \u001b[0mrow\u001b[0m \u001b[0;32min\u001b[0m \u001b[0mdf\u001b[0m\u001b[0;34m.\u001b[0m\u001b[0miterrows\u001b[0m\u001b[0;34m(\u001b[0m\u001b[0;34m)\u001b[0m\u001b[0;34m:\u001b[0m\u001b[0;34m\u001b[0m\u001b[0;34m\u001b[0m\u001b[0m\n\u001b[0m\u001b[1;32m      4\u001b[0m     \u001b[0mprint\u001b[0m\u001b[0;34m(\u001b[0m\u001b[0mrow\u001b[0m\u001b[0;34m[\u001b[0m\u001b[0;34m'predicate'\u001b[0m\u001b[0;34m]\u001b[0m\u001b[0;34m)\u001b[0m\u001b[0;34m\u001b[0m\u001b[0;34m\u001b[0m\u001b[0m\n\u001b[1;32m      5\u001b[0m     \u001b[0;32mif\u001b[0m \u001b[0mrow\u001b[0m\u001b[0;34m[\u001b[0m\u001b[0;34m'predicate'\u001b[0m\u001b[0;34m]\u001b[0m\u001b[0;34m==\u001b[0m \u001b[0;34m'http://www.wikidata.org/prop/direct/P571'\u001b[0m\u001b[0;34m:\u001b[0m\u001b[0;34m\u001b[0m\u001b[0;34m\u001b[0m\u001b[0m\n",
            "\u001b[0;31mNameError\u001b[0m: name 'df' is not defined"
          ]
        }
      ],
      "source": [
        "\n",
        "g = Graph()\n",
        "\n",
        "for index, row in df.iterrows():\n",
        "    print(row['predicate'])\n",
        "    if row['predicate']== 'http://www.wikidata.org/prop/direct/P571':\n",
        "        g.add((URIRef(row['subject']), URIRef(row['predicate']), Literal(row['object'], datatype=XSD.date) ))\n",
        "    elif row['predicate']== 'http://www.wikidata.org/prop/direct/P1476':\n",
        "        g.add((URIRef(row['subject']), URIRef(row['predicate']), Literal(row['object']) ))\n",
        "    else:\n",
        "        g.add((URIRef(row['subject']), URIRef(row['predicate']), URIRef(row['object'])))\n"
      ]
    },
    {
      "cell_type": "code",
      "execution_count": 10,
      "metadata": {
        "id": "bugInOeu9P_V",
        "outputId": "3194468c-3531-4255-90e5-3d4611bdad46"
      },
      "outputs": [
        {
          "ename": "SyntaxError",
          "evalue": "unexpected EOF while parsing (3223606558.py, line 12)",
          "output_type": "error",
          "traceback": [
            "\u001b[0;36m  File \u001b[0;32m\"/var/folders/fy/fvjdlg5s0sg6gkpfmpd6klp00000gn/T/ipykernel_30026/3223606558.py\"\u001b[0;36m, line \u001b[0;32m12\u001b[0m\n\u001b[0;31m    g2.add((URIRef(bgna),RDF.type, print(wda + bgna)\u001b[0m\n\u001b[0m                                                    ^\u001b[0m\n\u001b[0;31mSyntaxError\u001b[0m\u001b[0;31m:\u001b[0m unexpected EOF while parsing\n"
          ]
        }
      ],
      "source": [
        "from rdflib import Graph, Literal, RDF, URIRef, Namespace #basic RDF handling\n",
        "#print(g.serialize(format='turtle').decode('UTF-8'))\n",
        "#g.serialize('mycsv2rdf.ttl',format='turtle')\n",
        "g1 = Graph()\n",
        "#g1.parse('wikidata2bionet.ttl', format=\"nt\" ) #results of linking wd to bgn\n",
        "#g1.parse('mycsv2rdf.ttl', format=\"turtle\" )\n",
        "#g1.serialize('bgn2wd.ttl',format='turtle')\n",
        "\n",
        "p651 = URIRef(\"http://www.wikidata.org/prop/direct/P651\") \n",
        "g2 = Graph()\n",
        "for wda, bgna in g1.subject_objects(p651): \n",
        "    g2.add((URIRef(bgna),RDF.type, print(wda + bgna)\n"
      ]
    }
  ],
  "metadata": {
    "colab": {
      "name": "align_wikidata.ipynb",
      "provenance": []
    },
    "kernelspec": {
      "display_name": "Python 3.9.7 ('base')",
      "language": "python",
      "name": "python3"
    },
    "language_info": {
      "codemirror_mode": {
        "name": "ipython",
        "version": 3
      },
      "file_extension": ".py",
      "mimetype": "text/x-python",
      "name": "python",
      "nbconvert_exporter": "python",
      "pygments_lexer": "ipython3",
      "version": "3.9.7"
    },
    "vscode": {
      "interpreter": {
        "hash": "056af9df3335714b92606d06f1f2fa8228684766ba1a5b77570ea43fb51e6c01"
      }
    }
  },
  "nbformat": 4,
  "nbformat_minor": 0
}
