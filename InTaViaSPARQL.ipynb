{
  "cells": [
    {
      "cell_type": "code",
      "execution_count": null,
      "metadata": {
        "id": "6O73JB4qIhT4"
      },
      "outputs": [],
      "source": [
        "!pip install SPARQLWrapper\n",
        "!pip install pandas\n",
        "!pip install numpy\n",
        "!pip install rdflib"
      ]
    },
    {
      "cell_type": "code",
      "execution_count": 33,
      "metadata": {
        "id": "6bU9u_V2IsEC"
      },
      "outputs": [],
      "source": [
        "from SPARQLWrapper import SPARQLWrapper, JSON, XML, TURTLE, N3, RDF, RDFXML, CSV, TSV, JSONLD, DIGEST\n",
        "import pandas as pd\n",
        "import time\n",
        "from random import randint\n",
        "import numpy as np\n",
        "import requests\n",
        "from requests.exceptions import HTTPError\n",
        "from rdflib import Graph"
      ]
    },
    {
      "cell_type": "code",
      "execution_count": 1,
      "metadata": {},
      "outputs": [],
      "source": [
        "prefix = \"\"\"\n",
        "    PREFIX xsd: <http://www.w3.org/2001/XMLSchema#>\n",
        "    PREFIX rdf: <http://www.w3.org/1999/02/22-rdf-syntax-ns#>\n",
        "    PREFIX rdfs: <http://www.w3.org/2000/01/rdf-schema#>\n",
        "    PREFIX owl: <http://www.w3.org/2002/07/owl#>\n",
        "    PREFIX schema: <http://schema.org/>\n",
        "    PREFIX skos: <http://www.w3.org/2004/02/skos/core#>\n",
        "    PREFIX dbr: <http://dbpedia.org/resource/>\n",
        "    PREFIX dbp: <http://dbpedia.org/property/>\n",
        "    PREFIX dbc: <http://dbpedia.org/resource/Category:>\n",
        "    PREFIX dbo: <http://dbpedia.org/ontology/>\n",
        "    PREFIX dbt: <http://dbpedia.org/resource/Template:>\n",
        "    PREFIX dbyago: <http://dbpedia.org/class/yago/>\n",
        "    PREFIX dct: <http://purl.org/dc/terms/>\n",
        "    PREFIX dul: <http://www.ontologydesignpatterns.org/ont/dul/DUL.owl#>\n",
        "    PREFIX foaf: <http://xmlns.com/foaf/0.1/>\n",
        "    PREFIX gnd: <http://d-nb.info/gnd/>\n",
        "    PREFIX gold: <http://purl.org/linguistics/gold/>\n",
        "    PREFIX prov: <http://www.w3.org/ns/prov#>\n",
        "    PREFIX umbelrc: <http://umbel.org/umbel/rc/>\n",
        "    PREFIX viaf: <http://viaf.org/viaf/>\n",
        "    PREFIX ore: <http://www.openarchives.org/ore/terms/>\n",
        "    PREFIX edm: <http://www.europeana.eu/schemas/edm/>\n",
        "    PREFIX wd: <http://www.wikidata.org/entity/>\n",
        "    PREFIX wdata: <http://www.wikidata.org/wiki/Special:EntityData/>\n",
        "    PREFIX wdno: <http://www.wikidata.org/prop/novalue/>\n",
        "    PREFIX wdref: <http://www.wikidata.org/reference/>\n",
        "    PREFIX wds: <http://www.wikidata.org/entity/statement/>\n",
        "    PREFIX wdt: <http://www.wikidata.org/prop/direct/>\n",
        "    PREFIX wdtn: <http://www.wikidata.org/prop/direct-normalized/>\n",
        "    PREFIX wdv: <http://www.wikidata.org/value/>\n",
        "    PREFIX wikibase: <http://wikiba.se/ontology#>\n",
        "    PREFIX eventKG-s: <http://eventKG.l3s.uni-hannover.de/schema/>\n",
        "    PREFIX eventKG-e: <http://eventKG.l3s.uni-hannover.de/resource/>\n",
        "\"\"\"\n"
      ]
    },
    {
      "cell_type": "code",
      "execution_count": null,
      "metadata": {
        "colab": {
          "base_uri": "https://localhost:8080/"
        },
        "id": "PDF6nUjdJSxd",
        "outputId": "b14d93d3-a163-41b6-87b0-24b9c6e2846f"
      },
      "outputs": [],
      "source": [
        "def first_query(sparqlurl, credentials):\n",
        "  sparql = SPARQLWrapper(sparqlurl)\n",
        "  sparql.setCredentials(credentials[0], credentials[1])\n",
        "  #sparql.setCredentials(\"intavia\", \"acdhresearchspace2021\")\n",
        "  #sparql.setCredentials(\"intavia\", \"gE1aG9xK2hS4uQ4j\")\n",
        "  query_content = \"\"\"\n",
        "  select *\n",
        "  where {\n",
        "    ?s ?p ?o\n",
        "  }\n",
        "  LIMIT 10\n",
        "  \"\"\"\n",
        "\n",
        "  query = query_content \n",
        "  sparql.setQuery(query)\n",
        "  #sparql.setReturnFormat(TURTLE)\n",
        "  sparql.setReturnFormat(JSON)\n",
        "  #sparql.setReturnFormat(RDFXML)\n",
        "  results = sparql.query().convert()\n",
        "  print(results)\n",
        "  # # Create an empty dataframe, and append data to the dataframe in each iteration\n",
        "  df = pd.DataFrame(columns=['s', 'p', 'o'])\n",
        "  for result in results[\"results\"][\"bindings\"]:\n",
        "    #print(result)\n",
        "    s = result[\"s\"][\"value\"]\n",
        "    p = result[\"p\"][\"value\"]\n",
        "    o = result[\"o\"][\"value\"]\n",
        "    dicts = {'s': s, 'p': p, 'o': o}\n",
        "    df = df.append(dicts, ignore_index=True, sort=False)\n",
        "  # #print('-----------------')\n",
        "  # #print(df.iloc[0:3])\n",
        "  return df\n",
        "\n",
        "sparqlurl = 'https://mp-playground.acdh-dev.oeaw.ac.at/sparql'\n",
        "#sparql = SPARQLWrapper(\"https://triplestore.acdh-dev.oeaw.ac.at/intavia/sparql\")\n",
        "credentials = [\"intavia\", \"acdhresearchspace2021\"]\n",
        "#credentials = [\"intavia\", \"gE1aG9xK2hS4uQ4j\"]\n",
        "df = first_query(sparqlurl, credentials)\n",
        "print(df)"
      ]
    },
    {
      "cell_type": "markdown",
      "metadata": {
        "id": "fWrudRuRJZql"
      },
      "source": [
        "# Method 2: HTTP request and RDFlib (without SPARQL)"
      ]
    },
    {
      "cell_type": "code",
      "execution_count": 73,
      "metadata": {
        "id": "rsCB4ONhKEPD"
      },
      "outputs": [
        {
          "name": "stdout",
          "output_type": "stream",
          "text": [
            "406 Client Error: Not Acceptable for url: https://apis.acdh.oeaw.ac.at/apis/api/entities/person/102112/\n",
            "-------\n",
            "<Response [406]>\n",
            "{'Date': 'Wed, 06 Jul 2022 09:54:42 GMT', 'Server': 'nginx/1.22.0', 'Allow': 'GET, PUT, PATCH, DELETE, HEAD, OPTIONS', 'Content-Length': '57', 'Content-Type': 'application/json', 'Vary': 'Accept,Origin', 'X-Frame-Options': 'SAMEORIGIN', 'Via': '1.1 apis.acdh.oeaw.ac.at', 'Keep-Alive': 'timeout=5, max=100', 'Connection': 'Keep-Alive'}\n",
            "-------\n",
            "application/json\n",
            "-------\n",
            "-------\n",
            "b'{\"detail\":\"Could not satisfy the request Accept header.\"}'\n",
            "-------\n",
            "{\"detail\":\"Could not satisfy the request Accept header.\"}\n"
          ]
        }
      ],
      "source": [
        "#url = 'https://dbpedia.org/resource/Gustav_Klimt'\n",
        "#url = 'http://data.europeana.eu/item/2023859/_http___keptar_oszk_hu_025900_025984__'\n",
        "#url = 'http://eventKG.l3s.uni-hannover.de/resource/entity_3478776'\n",
        "\n",
        "url = 'http://data.biographynet.nl/rdf/PersonDes-10008408_02'\n",
        "# InTaVia, Finnish, APIS URIs do not work for content negotiation\n",
        "#url = 'http://www.intavia.eu/personproxy/bs/4943'\n",
        "#url = 'http://www.intavia.eu/apis/personproxy/100029'\n",
        "#url = 'https://apis.acdh.oeaw.ac.at/apis/api/entities/person/102112/'\n",
        "\n",
        "headers = {\n",
        "    #'Content-type': 'text/html; charset=UTF-8',\n",
        "    'Accept': 'text/turtle', \n",
        "    'Content-type': 'text/turtle',\n",
        "    #'Accept': 'application/rdf+xml',\n",
        "    #'Content-type': 'application/rdf+xml',\n",
        "}\n",
        "\n",
        "#r = requests.get(url)\n",
        "r = requests.get(url, headers=headers)\n",
        "try: \n",
        "    r.raise_for_status()\n",
        "except requests.exceptions.HTTPError as e: \n",
        "    print(e)\n",
        "print('-------')\n",
        "print(r)\n",
        "header = r.headers\n",
        "print(header)\n",
        "print('-------')\n",
        "\n",
        "contentType = r.headers['content-type']\n",
        "print(contentType)\n",
        "print('-------')\n",
        "\n",
        "print('-------')\n",
        "print(r.content)\n",
        "print('-------')\n",
        "print(r.text)\n",
        "\n",
        "# Create a new file to save as HTML (don't get confused with name \"open\")\n",
        "#with open('test.html', 'w') as f:\n",
        "#    f.write(r.text)"
      ]
    },
    {
      "cell_type": "code",
      "execution_count": 75,
      "metadata": {
        "colab": {
          "base_uri": "https://localhost:8080/",
          "height": 452
        },
        "id": "BoXc6tWIJiRY",
        "outputId": "73507af0-1f54-42c6-8303-196e8fad9499"
      },
      "outputs": [
        {
          "name": "stdout",
          "output_type": "stream",
          "text": [
            "[a rdfg:Graph;rdflib:storage [a rdflib:Store;rdfs:label 'Memory']].\n",
            "--------\n",
            "Graph g has 20 statements.\n",
            "--------\n",
            "<?xml version=\"1.0\" encoding=\"utf-8\"?>\n",
            "<rdf:RDF\n",
            "   xmlns:bgn=\"http://data.biographynet.nl/rdf/\"\n",
            "   xmlns:ore=\"http://www.openarchives.org/ore/terms/\"\n",
            "   xmlns:rdf=\"http://www.w3.org/1999/02/22-rdf-syntax-ns#\"\n",
            ">\n",
            "  <rdf:Description rdf:about=\"http://data.biographynet.nl/rdf/PersonDes-10008408_02\">\n",
            "    <rdf:type rdf:resource=\"http://data.biographynet.nl/rdf/PersonDes\"/>\n",
            "    <rdf:type rdf:resource=\"http://www.openarchives.org/ore/terms/Proxy\"/>\n",
            "    <bgn:event rdf:nodeID=\"N3e867a76c3d34a8595631a8ec11293db\"/>\n",
            "    <bgn:event rdf:nodeID=\"N0bdadcad318b446bb21a8701297ecaca\"/>\n",
            "    <bgn:idno>10008408</bgn:idno>\n",
            "    <bgn:idno>raa</bgn:idno>\n",
            "    <bgn:idno>raa/11127.xml</bgn:idno>\n",
            "    <bgn:personName rdf:nodeID=\"N90da495849004e1bb6911237b0a64083\"/>\n",
            "    <ore:proxyFor rdf:resource=\"http://data.biographynet.nl/rdf/Person-10008408\"/>\n",
            "    <ore:proxyIn rdf:resource=\"http://data.biographynet.nl/rdf/BioDes-10008408_02\"/>\n",
            "  </rdf:Description>\n",
            "  <rdf:Description rdf:nodeID=\"N3e867a76c3d34a8595631a8ec11293db\">\n",
            "    <rdf:type rdf:resource=\"http://data.biographynet.nl/rdf/Event\"/>\n",
            "    <bgn:type>birth</bgn:type>\n",
            "    <bgn:place rdf:resource=\"http://data.biographynet.nl/rdf/FileDes-73863490_01\"/>\n",
            "  </rdf:Description>\n",
            "  <rdf:Description rdf:nodeID=\"N0bdadcad318b446bb21a8701297ecaca\">\n",
            "    <rdf:type rdf:resource=\"http://data.biographynet.nl/rdf/Event\"/>\n",
            "    <bgn:type>death</bgn:type>\n",
            "    <bgn:place rdf:resource=\"http://data.biographynet.nl/rdf/FileDes-73863490_01\"/>\n",
            "  </rdf:Description>\n",
            "  <rdf:Description rdf:nodeID=\"N90da495849004e1bb6911237b0a64083\">\n",
            "    <rdf:type rdf:resource=\"http://data.biographynet.nl/rdf/PersName\"/>\n",
            "    <bgn:name>Polman</bgn:name>\n",
            "    <bgn:name>Simon</bgn:name>\n",
            "  </rdf:Description>\n",
            "  <rdf:Description rdf:about=\"http://data.biographynet.nl/rdf/BioDes-10008408_02\">\n",
            "    <bgn:hasPersonDes rdf:resource=\"http://data.biographynet.nl/rdf/PersonDes-10008408_02\"/>\n",
            "  </rdf:Description>\n",
            "</rdf:RDF>\n",
            "\n",
            "--------\n"
          ]
        }
      ],
      "source": [
        "#url = 'https://dbpedia.org/resource/Gustav_Klimt'\n",
        "#url ='http://data.europeana.eu/item/9200333/BibliographicResource_3000058955043'\n",
        "# No difference between URIs (item, providerProxy etc)\n",
        "#url ='http://data.europeana.eu/proxy/provider/9200333/BibliographicResource_3000058955043'\n",
        "# Obsolete URI found in a result in SPARQL \n",
        "#url = 'http://data.europeana.eu/item/2048212/zac_posen_aw13_0072'\n",
        "#url = 'http://eventKG.l3s.uni-hannover.de/resource/entity_3478776'\n",
        "\n",
        "url = 'http://data.biographynet.nl/rdf/PersonDes-10008408_02'\n",
        "# InTaVia, Finnish, APIS URIs do not work for content negotiation\n",
        "#url = 'http://www.intavia.eu/personproxy/bs/4943'\n",
        "#url = 'http://www.intavia.eu/apis/personproxy/100029'\n",
        "#url = 'https://apis.acdh.oeaw.ac.at/apis/api/entities/person/102112/'\n",
        "\n",
        "g = Graph()\n",
        "g.parse(url)\n",
        "#g.parse(url, format=\"turtle\")\n",
        "print(g)\n",
        "# Loop through each triple in the graph (subj, pred, obj)\n",
        "for subj, pred, obj in g:\n",
        "    # Check if there is at least one triple in the Graph\n",
        "    if (subj, pred, obj) not in g:\n",
        "       raise Exception(\"It better be!\")\n",
        "print('--------')\n",
        "# Print the number of \"triples\" in the Graph\n",
        "print(f\"Graph g has {len(g)} statements.\")\n",
        "print('--------')\n",
        "# Print out the entire Graph in the RDF Turtle format\n",
        "print(g.serialize(format=\"xml\"))\n",
        "print('--------')\n",
        "\n",
        "# Save as ttl file\n",
        "#g.serialize(destination=\"test.ttl\")\n",
        "# Read from ttl file\n",
        "#g.parse('test.ttl', format='ttl')\n",
        "# Print out the entire Graph in the RDF/XML format\n",
        "#print(g.serialize(format=\"xml\"))"
      ]
    },
    {
      "cell_type": "code",
      "execution_count": null,
      "metadata": {
        "id": "5Vpm1lcQT94e"
      },
      "outputs": [],
      "source": [
        "#URI_list_df = print(URI_list_df)\n",
        "#Saving URI list as CSV file (will be lost after the session)\n",
        "filename = 'TEST_EventKG_df.csv'\n",
        "df_csv = URI_list_df.to_csv(filename)\n",
        "#Saving URI list in GoogleDrive (which should be mounted by clicking icon in file structure view)\n",
        "#df_csv = URI_list_df.to_csv('/content/drive/MyDrive/Colab Notebooks/InTaVia/' + filename)"
      ]
    }
  ],
  "metadata": {
    "colab": {
      "name": "EventKG.ipynb",
      "provenance": []
    },
    "kernelspec": {
      "display_name": "Python 3.9.7 ('base')",
      "language": "python",
      "name": "python3"
    },
    "language_info": {
      "codemirror_mode": {
        "name": "ipython",
        "version": 3
      },
      "file_extension": ".py",
      "mimetype": "text/x-python",
      "name": "python",
      "nbconvert_exporter": "python",
      "pygments_lexer": "ipython3",
      "version": "3.9.7"
    },
    "vscode": {
      "interpreter": {
        "hash": "056af9df3335714b92606d06f1f2fa8228684766ba1a5b77570ea43fb51e6c01"
      }
    }
  },
  "nbformat": 4,
  "nbformat_minor": 0
}
