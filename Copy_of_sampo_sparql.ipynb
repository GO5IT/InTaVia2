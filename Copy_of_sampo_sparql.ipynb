{
  "cells": [
    {
      "cell_type": "markdown",
      "metadata": {
        "id": "6gB-KYbbVuYi"
      },
      "source": [
        "# [BiographySampo](http://biografiasampo.fi/haku/ruudukko) artworks from Wikidata"
      ]
    },
    {
      "cell_type": "markdown",
      "metadata": {
        "id": "WtBLSIhvSAsx"
      },
      "source": [
        "Install the dependencies:"
      ]
    },
    {
      "cell_type": "code",
      "execution_count": null,
      "metadata": {
        "colab": {
          "base_uri": "https://localhost:8080/"
        },
        "id": "LiZOwrdSKr9u",
        "outputId": "93352f98-0e5e-44ff-b1c0-40d6777a445c"
      },
      "outputs": [],
      "source": [
        "!pip install SPARQLWrapper numpy scipy matplotlib pandas networkx\n",
        "%matplotlib inline\n",
        "\n",
        "import codecs\n",
        "import datetime\n",
        "from dateutil.relativedelta import relativedelta\n",
        "\n",
        "import matplotlib.pyplot as plt\n",
        "import numpy    as np\n",
        "import networkx as nx\n",
        "import pandas   as pd\n",
        "import re\n",
        "import seaborn as sns\n",
        "import sys\n",
        "\n",
        "from collections import Counter, OrderedDict, defaultdict\n",
        "from itertools import product\n",
        "from rdflib.namespace import XSD, Namespace\n",
        "from rdflib import URIRef\n",
        "from statistics import mean\n",
        "from scipy.stats import binned_statistic\n",
        "from scipy.interpolate import interp1d\n",
        "from scipy.optimize import curve_fit\n",
        "from scipy.signal import convolve2d\n",
        "\n",
        "from SPARQLWrapper import SPARQLWrapper, JSON, POST\n",
        "\n",
        "import logging\n",
        "LOGGER = logging.getLogger(sys.argv[0])\n"
      ]
    },
    {
      "cell_type": "markdown",
      "metadata": {
        "id": "0sVZRPATx2OR"
      },
      "source": [
        "Define some useful functions for data convertion"
      ]
    },
    {
      "cell_type": "code",
      "execution_count": 2,
      "metadata": {
        "id": "wqqYM6OM0M-p"
      },
      "outputs": [],
      "source": [
        "DATATYPECONVERTERS = {\n",
        "      str(XSD.integer):  int,\n",
        "      # str(XSD.date):     lambda v: datetime.datetime.strptime(v, '%Y-%m-%d').date()\n",
        "      str(XSD.decimal):  float,\n",
        "      # XSD.double\n",
        "  }\n",
        "\n",
        "def convertDatatype(obj):\n",
        "  return DATATYPECONVERTERS.get(obj.get('datatype'), str)(obj.get('value')) \n",
        "\n",
        "def convertDatatypes(results):\n",
        "    res = results[\"results\"][\"bindings\"]\n",
        "    return [dict([(k, convertDatatype(v)) for k,v in r.items()]) for r in res]\n",
        "\n",
        "def JSON2Pandas(results):\n",
        "    return pd.DataFrame(convertDatatypes(results))\n",
        "\n",
        "from rdflib import Namespace, URIRef, Graph, Literal, XSD\n",
        "from rdflib.namespace import RDF, SKOS, OWL, FOAF, RDFS, XSD, DCTERMS\n",
        "FOAF = Namespace(FOAF)\n",
        "\n",
        "BIOC = Namespace(\"http://ldf.fi/schema/bioc/\")\n",
        "CRM = Namespace(\"http://www.cidoc-crm.org/cidoc-crm/\")\n",
        "GVP = Namespace(\"http://vocab.getty.edu/ontology#\")\n",
        "GEO = Namespace(\"http://www.w3.org/2003/01/geo/wgs84_pos#\")\n",
        "LABEL = Namespace(\"http://ldf.fi/nbf/label/\")\n",
        "SCHEMA = Namespace(\"http://schema.org/\")\n",
        "SKOSXL = Namespace(\"http://www.w3.org/2008/05/skos-xl#\")\n",
        "\n",
        "NBF = Namespace(\"http://ldf.fi/nbf/\")\n",
        "IDM = Namespace(\"http://www.intavia.eu/\")\n",
        "IDMCORE = Namespace(\"http://www.intavia.eu/idm-core/\")\n",
        "\n",
        "IDM_PERSON = Namespace('http://www.intavia.eu/personproxy/bs/')\n",
        "IDM_PROVIDED_PERSON = Namespace('http://www.intavia.eu/provided_person/bs/')\n",
        "IDM_PLACE = Namespace('http://www.intavia.eu/placeproxy/bs/')\n",
        "\n",
        "TIMES = Namespace(\"http://ldf.fi/nbf/times/\")\n",
        "TITLES = Namespace(\"http://ldf.fi/nbf/titles/\")\n",
        "PLACES = Namespace(\"http://ldf.fi/nbf/places/\")\n",
        "SOURCES = Namespace(\"http://ldf.fi/nbf/sources/\")\n",
        "\n",
        "WD = Namespace(\"http://www.wikidata.org/entity/\")\n",
        "\n",
        "PREFIXES = \"\"\"PREFIX crm: <http://www.cidoc-crm.org/cidoc-crm/>\n",
        "PREFIX bioc: <http://ldf.fi/schema/bioc/>\n",
        "PREFIX skosxl: <http://www.w3.org/2008/05/skos-xl#>\n",
        "PREFIX dct: <http://purl.org/dc/terms/>\n",
        "PREFIX dcterms: <http://purl.org/dc/terms/>\n",
        "PREFIX foaf: <http://xmlns.com/foaf/0.1/>\n",
        "PREFIX owl: <http://www.w3.org/2002/07/owl#>\n",
        "PREFIX nbf: <http://ldf.fi/nbf/>\n",
        "PREFIX rdfs: <http://www.w3.org/2000/01/rdf-schema#> \n",
        "PREFIX schema: <http://schema.org/>\n",
        "PREFIX skos: <http://www.w3.org/2004/02/skos/core#> \n",
        "PREFIX sources: <http://ldf.fi/nbf/sources/>\n",
        "PREFIX xsd: <http://www.w3.org/2001/XMLSchema#> \n",
        "PREFIX idm-core: <http://www.intavia.eu/idm-core/>\n",
        "\"\"\"\n",
        "\n",
        "def initGraph(g = None):\n",
        "    \n",
        "    if not g:\n",
        "        g=Graph()\n",
        "    \n",
        "    # bind prefixes\n",
        "    g.bind(\"dct\", DCTERMS)\n",
        "    g.bind(\"gvp\", GVP)\n",
        "    g.bind(\"owl\", OWL)\n",
        "    g.bind(\"foaf\", FOAF)\n",
        "    g.bind(\"idm\", IDM)\n",
        "    g.bind(\"idm-core\", IDMCORE)\n",
        "    g.bind(\"rdf\", RDF)\n",
        "    g.bind(\"rdfs\", RDFS)\n",
        "    g.bind(\"schema\", SCHEMA)\n",
        "    g.bind(\"sources\", SOURCES)\n",
        "    g.bind(\"skos\",SKOS)\n",
        "    g.bind(\"skosxl\", SKOSXL)\n",
        "    g.bind(\"xsd\", XSD)\n",
        "    g.bind(\"geo\", GEO)\n",
        "    g.bind(\"crm\", CRM)\n",
        "    g.bind(\"idnametype\", Namespace('http://www.intavia.eu/nametype/'))\n",
        "    \n",
        "    g.bind(\"bioc\", BIOC)\n",
        "    g.bind(\"label\", LABEL)\n",
        "    g.bind(\"nbf\", NBF)\n",
        "    g.bind(\"times\", TIMES)\n",
        "    g.bind(\"wd\", WD)\n",
        "    \n",
        "    return g\n",
        "\n",
        "def saveGraphs(tuples, silent=False):\n",
        "    \n",
        "    for g, outfile in tuples:\n",
        "        \n",
        "        if len(g):\n",
        "            \n",
        "            args = sys.argv\n",
        "            \n",
        "            outf = codecs.open(outfile, encoding='utf-8', mode='w')\n",
        "            \n",
        "            outf.write(\"# Created with script {}\\n\".format(args[0]))\n",
        "            outf.write(\"# in colab https://colab.research.google.com/drive/1c6hwZs1ooi1G1kfHeB-JYeywemyY-mU-?usp=sharing\")\n",
        "            outf.write(\"# python3 {}\\n\".format(' '.join(args)))\n",
        "            \n",
        "            now = datetime.datetime.now()\n",
        "            outf.write(\"# {}\\n\\n\".format(now.strftime(\"%Y-%m-%d %H:%M\")))\n",
        "            \n",
        "            # g.serialize(destination=outfile, format='turtle')\n",
        "            #  outf.write( g.serialize(format='turtle').decode(\"utf-8\") )\n",
        "            outf.write( g.serialize(format='turtle') )\n",
        "            \n",
        "            outf.close()\n",
        "            \n",
        "            if not silent:\n",
        "                LOGGER.info(\"{} triples saved to {}\".format(len(g),outfile))\n",
        "            \n",
        "        elif not silent:\n",
        "            LOGGER.info(\"No output to {}\".format(outfile))"
      ]
    },
    {
      "cell_type": "markdown",
      "metadata": {
        "id": "_-BZvAZj8Jq6"
      },
      "source": [
        "# Quering NBF people data\n",
        "[yasgui.com](https://api.triplydb.com/s/fosA2MYMf)"
      ]
    },
    {
      "cell_type": "code",
      "execution_count": null,
      "metadata": {
        "colab": {
          "base_uri": "https://localhost:8080/"
        },
        "id": "I4Qaq0IMKzl9",
        "outputId": "b4e95eb5-6c29-43c0-b0f0-eb156cade08c"
      },
      "outputs": [],
      "source": [
        "sparql = SPARQLWrapper(\"https://ldf.fi/nbf/sparql\")\n",
        "# https://api.triplydb.com/s/fosA2MYMf\n",
        "sparql.setQuery(PREFIXES +\n",
        "\"\"\" SELECT DISTINCT ?id ?wiki \n",
        "WHERE {\n",
        "  VALUES ?source { sources:source1 }\n",
        "  ?id a nbf:PersonConcept ;\n",
        "   dct:source ?source ;\n",
        "   foaf:focus/schema:gender ?gender ;\n",
        "   nbf:wikidata ?wiki .\n",
        "} \"\"\")\n",
        "\n",
        "sparql.setReturnFormat(JSON)\n",
        "sparql.setMethod('POST')\n",
        "# sparql.addCustomHttpHeader()\n",
        "results = sparql.query().convert()\n",
        "\n",
        "res = results[\"results\"][\"bindings\"]\n",
        "print(f\"{len(res)} results\")\n",
        "\n",
        "print(f\"Datafields {results['head']['vars']}\")\n",
        "res = convertDatatypes(results)\n",
        "\n",
        "nbf2wiki = res\n",
        "\n",
        "for ob in res[:10]:\n",
        "  print(ob)"
      ]
    },
    {
      "cell_type": "code",
      "execution_count": 4,
      "metadata": {
        "colab": {
          "base_uri": "https://localhost:8080/",
          "height": 36
        },
        "id": "2UMFtPfoxOHh",
        "outputId": "bb16cea8-435e-4850-836d-d7ae5afef133"
      },
      "outputs": [
        {
          "data": {
            "text/plain": [
              "'nbf:p1869'"
            ]
          },
          "execution_count": 4,
          "metadata": {},
          "output_type": "execute_result"
        }
      ],
      "source": [
        "# Europeana endpoint rejects too long queries, so to shorten apply prefices\n",
        "def applyPrefix(st):\n",
        "  st = re.sub(r'http://www.wikidata.org/entity/', 'wd:', st)\n",
        "  return re.sub(r'http://ldf.fi/nbf/', 'nbf:', st)\n",
        "\n",
        "applyPrefix('http://ldf.fi/nbf/p1869')"
      ]
    },
    {
      "cell_type": "code",
      "execution_count": null,
      "metadata": {
        "colab": {
          "base_uri": "https://localhost:8080/",
          "height": 184
        },
        "id": "yipr8v9LIeHw",
        "outputId": "cc50eb56-f9dc-495c-cd37-101cefa0c666"
      },
      "outputs": [],
      "source": [
        "# construct a sparql query block with values (bs_id wiki_id)\n",
        "\n",
        "#arr = [\"({} {})\".format(applyPrefix(ob.get('id')), applyPrefix(ob.get('wiki'))) for ob in res[:100] if ob.get('wiki')]\n",
        "arr = [\"(<{}> <{}>)\".format(ob.get('id'), ob.get('wiki')) for ob in nbf2wiki if ob.get('wiki')]\n",
        "print(len(arr))\n",
        "VALUES = \" \".join(arr)\n",
        "VALUES#[:500]"
      ]
    },
    {
      "cell_type": "markdown",
      "metadata": {
        "id": "MJr1gaDITfqL"
      },
      "source": [
        "# Query artworks from Wikidata"
      ]
    },
    {
      "cell_type": "code",
      "execution_count": 6,
      "metadata": {
        "colab": {
          "base_uri": "https://localhost:8080/"
        },
        "id": "9TDfh-odTh7A",
        "outputId": "563ba9d4-ae1f-4192-a391-38c73893e9eb"
      },
      "outputs": [
        {
          "name": "stdout",
          "output_type": "stream",
          "text": [
            "8842 results\n",
            "Datafields ['bs', 'wiki', 'personLabel', 'work', 'workLabel', 'workImage', 'workModel', 'workModelLabel', 'europeana']\n",
            "{'work': 'http://www.wikidata.org/entity/Q20787345', 'workModel': 'http://www.wikidata.org/entity/Q6416041', 'bs': 'http://ldf.fi/nbf/p2511', 'wiki': 'http://www.wikidata.org/entity/Q5403315', 'workImage': 'http://commons.wikimedia.org/wiki/Special:FilePath/Kunnas%20Vaino%20Kirsin%20Satunurkka.JPG', 'workLabel': 'Kirsi Reading Fairy-Tales', 'workModelLabel': 'Kirsi Kunnas'}\n",
            "{'work': 'http://www.wikidata.org/entity/Q20787712', 'workModel': 'http://www.wikidata.org/entity/Q11903052', 'bs': 'http://ldf.fi/nbf/p5264', 'wiki': 'http://www.wikidata.org/entity/Q11903052', 'workLabel': 'Self Portrait', 'workModelLabel': 'Yrjö Saarinen'}\n",
            "{'work': 'http://www.wikidata.org/entity/Q20782658', 'workModel': 'http://www.wikidata.org/entity/Q4411191', 'bs': 'http://ldf.fi/nbf/p5271', 'wiki': 'http://www.wikidata.org/entity/Q4411191', 'workLabel': 'Self-Portrait', 'workModelLabel': 'Sigrid Schauman', 'europeana': 'agent/base/42056'}\n",
            "{'work': 'http://www.wikidata.org/entity/Q20781521', 'workModel': 'http://www.wikidata.org/entity/Q5940496', 'bs': 'http://ldf.fi/nbf/p4362', 'wiki': 'http://www.wikidata.org/entity/Q5940496', 'workImage': 'http://commons.wikimedia.org/wiki/Special:FilePath/Alexander%20Laur%C3%A9us%20-%20Self-Portrait%20-%20A%20III%201893%20-%20Finnish%20National%20Gallery.jpg', 'workLabel': 'Self-Portrait', 'workModelLabel': 'Aleksander Lauréus'}\n",
            "{'work': 'http://www.wikidata.org/entity/Q18599449', 'workModel': 'http://www.wikidata.org/entity/Q109294635', 'bs': 'http://ldf.fi/nbf/p5854', 'wiki': 'http://www.wikidata.org/entity/Q11865103', 'workImage': 'http://commons.wikimedia.org/wiki/Special:FilePath/Isaac%20Wacklin%20-%20Miss%20Brigita%20Johanna%20Lagerstam%20-%20NM%202674%20-%20Nationalmuseum.jpg', 'workLabel': 'Miss Brigita Johanna Lagerstam', 'workModelLabel': 'Brita Johanna Lagerstam'}\n",
            "{'work': 'http://www.wikidata.org/entity/Q20791563', 'workModel': 'http://www.wikidata.org/entity/Q2415388', 'bs': 'http://ldf.fi/nbf/p946', 'wiki': 'http://www.wikidata.org/entity/Q5731022', 'workImage': 'http://commons.wikimedia.org/wiki/Special:FilePath/Carl%20Gustaf%20Mannerheim%20by%20Finnberg.jpeg', 'workLabel': 'Carl Gustaf Mannerheimin muotokuva', 'workModelLabel': 'Carl Gustaf von Mannerheim'}\n",
            "{'work': 'http://www.wikidata.org/entity/Q11891373', 'workModel': 'http://www.wikidata.org/entity/Q153159', 'bs': 'http://ldf.fi/nbf/p4236', 'wiki': 'http://www.wikidata.org/entity/Q5911678', 'workLabel': 'Runeberg, Lönnrot, Snellman', 'workModelLabel': 'Elias Lönnrot'}\n",
            "{'work': 'http://www.wikidata.org/entity/Q11891373', 'workModel': 'http://www.wikidata.org/entity/Q127688', 'bs': 'http://ldf.fi/nbf/p4236', 'wiki': 'http://www.wikidata.org/entity/Q5911678', 'workLabel': 'Runeberg, Lönnrot, Snellman', 'workModelLabel': 'Johan Vilhelm Snellman'}\n",
            "{'work': 'http://www.wikidata.org/entity/Q20780537', 'workModel': 'http://www.wikidata.org/entity/Q11891043', 'bs': 'http://ldf.fi/nbf/p4515', 'wiki': 'http://www.wikidata.org/entity/Q5969439', 'workImage': 'http://commons.wikimedia.org/wiki/Special:FilePath/Erik%20Johan%20L%C3%B6fgren%20-%20Salaneuvos%20Robert%20von%20Trappin%20muotokuva%20-%20A%20I%2087%20-%20Finnish%20National%20Gallery.jpg', 'workLabel': 'Salaneuvos Robert von Trappin muotokuva', 'workModelLabel': 'Robert von Trapp'}\n",
            "{'work': 'http://www.wikidata.org/entity/Q20776213', 'workModel': 'http://www.wikidata.org/entity/Q17382849', 'bs': 'http://ldf.fi/nbf/p4902', 'wiki': 'http://www.wikidata.org/entity/Q17382849', 'workImage': 'http://commons.wikimedia.org/wiki/Special:FilePath/Oscar%20Parviainen%20-%20Self-Portrait%20in%20Electric%20Light.jpg', 'workLabel': 'Self-Portrait in Electric Light', 'workModelLabel': 'Oscar Parviainen'}\n"
          ]
        }
      ],
      "source": [
        "sparql2 = SPARQLWrapper(\"https://query.wikidata.org/sparql\")\n",
        "# \n",
        "sparql2.setQuery(\n",
        "\"\"\" PREFIX foaf: <http://xmlns.com/foaf/0.1/>\n",
        "PREFIX dct: <http://purl.org/dc/terms/>\n",
        "PREFIX xsd: <http://www.w3.org/2001/XMLSchema#>\n",
        "PREFIX skos: <http://www.w3.org/2004/02/skos/core#>\n",
        "PREFIX schema: <http://schema.org/>\n",
        "PREFIX wd: <http://www.wikidata.org/entity/>\n",
        "PREFIX rdf: <http://www.w3.org/1999/02/22-rdf-syntax-ns#>\n",
        "PREFIX rdfs: <http://www.w3.org/2000/01/rdf-schema#>\n",
        "PREFIX wdt: <http://www.wikidata.org/prop/direct/>\n",
        "prefix p: <http://www.wikidata.org/prop/> \n",
        "PREFIX bd: <http://www.bigdata.com/rdf#>\n",
        "prefix wds: <http://www.wikidata.org/entity/statement/>\n",
        "prefix ps: <http://www.wikidata.org/prop/statement/> \n",
        "prefix pq: <http://www.wikidata.org/prop/qualifier/>\n",
        "PREFIX people: <http://ldf.fi/schema/yoma/people/>\n",
        "PREFIX wikibase: <http://wikiba.se/ontology#>\n",
        "PREFIX mwapi: <https://www.mediawiki.org/ontology#API/>\n",
        "PREFIX nbf: <http://ldf.fi/nbf/>\n",
        "\n",
        "SELECT DISTINCT ?bs ?wiki ?personLabel ?work ?workLabel ?workImage ?workModel ?workModelLabel ?europeana\n",
        "WHERE {\n",
        "  \n",
        "  VALUES (?bs ?wiki) {\"\"\"+VALUES+\"\"\" }\n",
        "  \n",
        "  { ?wiki wdt:P800 ?work } # wdt=notable work\n",
        "  UNION\n",
        "  { ?work wdt:P1647*/wdt:P170 ?wiki } # wdt=subclass/creator\n",
        "  OPTIONAL { ?work wdt:P18 ?workImage }\n",
        "  \n",
        "  OPTIONAL { ?work (wdt:P180|wdt:P2634) ?workModel . ?workModel wdt:P31 wd:Q5 }\n",
        "\n",
        "  SERVICE wikibase:label { bd:serviceParam wikibase:language \"en,fi,sv\". }\n",
        "\n",
        "  OPTIONAL { ?wiki wdt:P7704 ?europeana }\n",
        "} \"\"\")\n",
        "\n",
        "sparql2.setReturnFormat(JSON)\n",
        "sparql2.setMethod('POST')\n",
        "results = sparql2.query().convert()\n",
        "\n",
        "res = results[\"results\"][\"bindings\"]\n",
        "print(f\"{len(res)} results\")\n",
        "\n",
        "print(f\"Datafields {results['head']['vars']}\")\n",
        "res = convertDatatypes(results)\n",
        "\n",
        "for ob in res[:10]:\n",
        "  print(ob)"
      ]
    },
    {
      "cell_type": "code",
      "execution_count": 7,
      "metadata": {
        "colab": {
          "base_uri": "https://localhost:8080/",
          "height": 696
        },
        "id": "FAVcZpwIekZu",
        "outputId": "7abc3582-7183-4ffd-dcd0-0b3006476fce"
      },
      "outputs": [
        {
          "data": {
            "text/html": [
              "\n",
              "  <div id=\"df-195e9d79-fd38-4c95-a53f-75528ff30fef\">\n",
              "    <div class=\"colab-df-container\">\n",
              "      <div>\n",
              "<style scoped>\n",
              "    .dataframe tbody tr th:only-of-type {\n",
              "        vertical-align: middle;\n",
              "    }\n",
              "\n",
              "    .dataframe tbody tr th {\n",
              "        vertical-align: top;\n",
              "    }\n",
              "\n",
              "    .dataframe thead th {\n",
              "        text-align: right;\n",
              "    }\n",
              "</style>\n",
              "<table border=\"1\" class=\"dataframe\">\n",
              "  <thead>\n",
              "    <tr style=\"text-align: right;\">\n",
              "      <th></th>\n",
              "      <th>work</th>\n",
              "      <th>workModel</th>\n",
              "      <th>bs</th>\n",
              "      <th>wiki</th>\n",
              "      <th>workLabel</th>\n",
              "      <th>workModelLabel</th>\n",
              "      <th>europeana</th>\n",
              "      <th>workImage</th>\n",
              "    </tr>\n",
              "  </thead>\n",
              "  <tbody>\n",
              "    <tr>\n",
              "      <th>0</th>\n",
              "      <td>http://www.wikidata.org/entity/Q20782658</td>\n",
              "      <td>http://www.wikidata.org/entity/Q4411191</td>\n",
              "      <td>http://ldf.fi/nbf/p5271</td>\n",
              "      <td>http://www.wikidata.org/entity/Q4411191</td>\n",
              "      <td>Self-Portrait</td>\n",
              "      <td>Sigrid Schauman</td>\n",
              "      <td>agent/base/42056</td>\n",
              "      <td>NaN</td>\n",
              "    </tr>\n",
              "    <tr>\n",
              "      <th>1</th>\n",
              "      <td>http://www.wikidata.org/entity/Q20781521</td>\n",
              "      <td>http://www.wikidata.org/entity/Q5940496</td>\n",
              "      <td>http://ldf.fi/nbf/p4362</td>\n",
              "      <td>http://www.wikidata.org/entity/Q5940496</td>\n",
              "      <td>Self-Portrait</td>\n",
              "      <td>Aleksander Lauréus</td>\n",
              "      <td>NaN</td>\n",
              "      <td>http://commons.wikimedia.org/wiki/Special:File...</td>\n",
              "    </tr>\n",
              "    <tr>\n",
              "      <th>2</th>\n",
              "      <td>http://www.wikidata.org/entity/Q20779048</td>\n",
              "      <td>http://www.wikidata.org/entity/Q14417101</td>\n",
              "      <td>http://ldf.fi/nbf/p4873</td>\n",
              "      <td>http://www.wikidata.org/entity/Q14417101</td>\n",
              "      <td>Self Portrait</td>\n",
              "      <td>Yrjö Ollila</td>\n",
              "      <td>NaN</td>\n",
              "      <td>http://commons.wikimedia.org/wiki/Special:File...</td>\n",
              "    </tr>\n",
              "    <tr>\n",
              "      <th>3</th>\n",
              "      <td>http://www.wikidata.org/entity/Q18599449</td>\n",
              "      <td>http://www.wikidata.org/entity/Q109294635</td>\n",
              "      <td>http://ldf.fi/nbf/p5854</td>\n",
              "      <td>http://www.wikidata.org/entity/Q11865103</td>\n",
              "      <td>Miss Brigita Johanna Lagerstam</td>\n",
              "      <td>Brita Johanna Lagerstam</td>\n",
              "      <td>NaN</td>\n",
              "      <td>http://commons.wikimedia.org/wiki/Special:File...</td>\n",
              "    </tr>\n",
              "    <tr>\n",
              "      <th>4</th>\n",
              "      <td>http://www.wikidata.org/entity/Q11891373</td>\n",
              "      <td>http://www.wikidata.org/entity/Q153159</td>\n",
              "      <td>http://ldf.fi/nbf/p4236</td>\n",
              "      <td>http://www.wikidata.org/entity/Q5911678</td>\n",
              "      <td>Runeberg, Lönnrot, Snellman</td>\n",
              "      <td>Elias Lönnrot</td>\n",
              "      <td>NaN</td>\n",
              "      <td>NaN</td>\n",
              "    </tr>\n",
              "    <tr>\n",
              "      <th>...</th>\n",
              "      <td>...</td>\n",
              "      <td>...</td>\n",
              "      <td>...</td>\n",
              "      <td>...</td>\n",
              "      <td>...</td>\n",
              "      <td>...</td>\n",
              "      <td>...</td>\n",
              "      <td>...</td>\n",
              "    </tr>\n",
              "    <tr>\n",
              "      <th>8837</th>\n",
              "      <td>http://www.wikidata.org/entity/Q112151842</td>\n",
              "      <td>NaN</td>\n",
              "      <td>http://ldf.fi/nbf/p901</td>\n",
              "      <td>http://www.wikidata.org/entity/Q170068</td>\n",
              "      <td>Lake Ruovesi</td>\n",
              "      <td>NaN</td>\n",
              "      <td>agent/base/61358</td>\n",
              "      <td>http://commons.wikimedia.org/wiki/Special:File...</td>\n",
              "    </tr>\n",
              "    <tr>\n",
              "      <th>8838</th>\n",
              "      <td>http://www.wikidata.org/entity/Q112764089</td>\n",
              "      <td>NaN</td>\n",
              "      <td>http://ldf.fi/nbf/p2790</td>\n",
              "      <td>http://www.wikidata.org/entity/Q938282</td>\n",
              "      <td>Sunnuntaiaamu talonpoikaistuvassa</td>\n",
              "      <td>NaN</td>\n",
              "      <td>agent/base/14212</td>\n",
              "      <td>http://commons.wikimedia.org/wiki/Special:File...</td>\n",
              "    </tr>\n",
              "    <tr>\n",
              "      <th>8839</th>\n",
              "      <td>http://www.wikidata.org/entity/Q111801916</td>\n",
              "      <td>NaN</td>\n",
              "      <td>http://ldf.fi/nbf/p830</td>\n",
              "      <td>http://www.wikidata.org/entity/Q216904</td>\n",
              "      <td>Olviretki Schleusingenissa (TV Movie 1967)</td>\n",
              "      <td>NaN</td>\n",
              "      <td>NaN</td>\n",
              "      <td>NaN</td>\n",
              "    </tr>\n",
              "    <tr>\n",
              "      <th>8840</th>\n",
              "      <td>http://www.wikidata.org/entity/Q110864858</td>\n",
              "      <td>NaN</td>\n",
              "      <td>http://ldf.fi/nbf/p910</td>\n",
              "      <td>http://www.wikidata.org/entity/Q356644</td>\n",
              "      <td>Summer evening</td>\n",
              "      <td>NaN</td>\n",
              "      <td>agent/base/147831</td>\n",
              "      <td>http://commons.wikimedia.org/wiki/Special:File...</td>\n",
              "    </tr>\n",
              "    <tr>\n",
              "      <th>8841</th>\n",
              "      <td>http://www.wikidata.org/entity/Q111827697</td>\n",
              "      <td>NaN</td>\n",
              "      <td>http://ldf.fi/nbf/p4873</td>\n",
              "      <td>http://www.wikidata.org/entity/Q14417101</td>\n",
              "      <td>Verkonlaskija</td>\n",
              "      <td>NaN</td>\n",
              "      <td>NaN</td>\n",
              "      <td>http://commons.wikimedia.org/wiki/Special:File...</td>\n",
              "    </tr>\n",
              "  </tbody>\n",
              "</table>\n",
              "<p>8842 rows × 8 columns</p>\n",
              "</div>\n",
              "      <button class=\"colab-df-convert\" onclick=\"convertToInteractive('df-195e9d79-fd38-4c95-a53f-75528ff30fef')\"\n",
              "              title=\"Convert this dataframe to an interactive table.\"\n",
              "              style=\"display:none;\">\n",
              "        \n",
              "  <svg xmlns=\"http://www.w3.org/2000/svg\" height=\"24px\"viewBox=\"0 0 24 24\"\n",
              "       width=\"24px\">\n",
              "    <path d=\"M0 0h24v24H0V0z\" fill=\"none\"/>\n",
              "    <path d=\"M18.56 5.44l.94 2.06.94-2.06 2.06-.94-2.06-.94-.94-2.06-.94 2.06-2.06.94zm-11 1L8.5 8.5l.94-2.06 2.06-.94-2.06-.94L8.5 2.5l-.94 2.06-2.06.94zm10 10l.94 2.06.94-2.06 2.06-.94-2.06-.94-.94-2.06-.94 2.06-2.06.94z\"/><path d=\"M17.41 7.96l-1.37-1.37c-.4-.4-.92-.59-1.43-.59-.52 0-1.04.2-1.43.59L10.3 9.45l-7.72 7.72c-.78.78-.78 2.05 0 2.83L4 21.41c.39.39.9.59 1.41.59.51 0 1.02-.2 1.41-.59l7.78-7.78 2.81-2.81c.8-.78.8-2.07 0-2.86zM5.41 20L4 18.59l7.72-7.72 1.47 1.35L5.41 20z\"/>\n",
              "  </svg>\n",
              "      </button>\n",
              "      \n",
              "  <style>\n",
              "    .colab-df-container {\n",
              "      display:flex;\n",
              "      flex-wrap:wrap;\n",
              "      gap: 12px;\n",
              "    }\n",
              "\n",
              "    .colab-df-convert {\n",
              "      background-color: #E8F0FE;\n",
              "      border: none;\n",
              "      border-radius: 50%;\n",
              "      cursor: pointer;\n",
              "      display: none;\n",
              "      fill: #1967D2;\n",
              "      height: 32px;\n",
              "      padding: 0 0 0 0;\n",
              "      width: 32px;\n",
              "    }\n",
              "\n",
              "    .colab-df-convert:hover {\n",
              "      background-color: #E2EBFA;\n",
              "      box-shadow: 0px 1px 2px rgba(60, 64, 67, 0.3), 0px 1px 3px 1px rgba(60, 64, 67, 0.15);\n",
              "      fill: #174EA6;\n",
              "    }\n",
              "\n",
              "    [theme=dark] .colab-df-convert {\n",
              "      background-color: #3B4455;\n",
              "      fill: #D2E3FC;\n",
              "    }\n",
              "\n",
              "    [theme=dark] .colab-df-convert:hover {\n",
              "      background-color: #434B5C;\n",
              "      box-shadow: 0px 1px 3px 1px rgba(0, 0, 0, 0.15);\n",
              "      filter: drop-shadow(0px 1px 2px rgba(0, 0, 0, 0.3));\n",
              "      fill: #FFFFFF;\n",
              "    }\n",
              "  </style>\n",
              "\n",
              "      <script>\n",
              "        const buttonEl =\n",
              "          document.querySelector('#df-195e9d79-fd38-4c95-a53f-75528ff30fef button.colab-df-convert');\n",
              "        buttonEl.style.display =\n",
              "          google.colab.kernel.accessAllowed ? 'block' : 'none';\n",
              "\n",
              "        async function convertToInteractive(key) {\n",
              "          const element = document.querySelector('#df-195e9d79-fd38-4c95-a53f-75528ff30fef');\n",
              "          const dataTable =\n",
              "            await google.colab.kernel.invokeFunction('convertToInteractive',\n",
              "                                                     [key], {});\n",
              "          if (!dataTable) return;\n",
              "\n",
              "          const docLinkHtml = 'Like what you see? Visit the ' +\n",
              "            '<a target=\"_blank\" href=https://colab.research.google.com/notebooks/data_table.ipynb>data table notebook</a>'\n",
              "            + ' to learn more about interactive tables.';\n",
              "          element.innerHTML = '';\n",
              "          dataTable['output_type'] = 'display_data';\n",
              "          await google.colab.output.renderOutput(dataTable, element);\n",
              "          const docLink = document.createElement('div');\n",
              "          docLink.innerHTML = docLinkHtml;\n",
              "          element.appendChild(docLink);\n",
              "        }\n",
              "      </script>\n",
              "    </div>\n",
              "  </div>\n",
              "  "
            ],
            "text/plain": [
              "                                           work  \\\n",
              "0      http://www.wikidata.org/entity/Q20782658   \n",
              "1      http://www.wikidata.org/entity/Q20781521   \n",
              "2      http://www.wikidata.org/entity/Q20779048   \n",
              "3      http://www.wikidata.org/entity/Q18599449   \n",
              "4      http://www.wikidata.org/entity/Q11891373   \n",
              "...                                         ...   \n",
              "8837  http://www.wikidata.org/entity/Q112151842   \n",
              "8838  http://www.wikidata.org/entity/Q112764089   \n",
              "8839  http://www.wikidata.org/entity/Q111801916   \n",
              "8840  http://www.wikidata.org/entity/Q110864858   \n",
              "8841  http://www.wikidata.org/entity/Q111827697   \n",
              "\n",
              "                                      workModel                       bs  \\\n",
              "0       http://www.wikidata.org/entity/Q4411191  http://ldf.fi/nbf/p5271   \n",
              "1       http://www.wikidata.org/entity/Q5940496  http://ldf.fi/nbf/p4362   \n",
              "2      http://www.wikidata.org/entity/Q14417101  http://ldf.fi/nbf/p4873   \n",
              "3     http://www.wikidata.org/entity/Q109294635  http://ldf.fi/nbf/p5854   \n",
              "4        http://www.wikidata.org/entity/Q153159  http://ldf.fi/nbf/p4236   \n",
              "...                                         ...                      ...   \n",
              "8837                                        NaN   http://ldf.fi/nbf/p901   \n",
              "8838                                        NaN  http://ldf.fi/nbf/p2790   \n",
              "8839                                        NaN   http://ldf.fi/nbf/p830   \n",
              "8840                                        NaN   http://ldf.fi/nbf/p910   \n",
              "8841                                        NaN  http://ldf.fi/nbf/p4873   \n",
              "\n",
              "                                          wiki  \\\n",
              "0      http://www.wikidata.org/entity/Q4411191   \n",
              "1      http://www.wikidata.org/entity/Q5940496   \n",
              "2     http://www.wikidata.org/entity/Q14417101   \n",
              "3     http://www.wikidata.org/entity/Q11865103   \n",
              "4      http://www.wikidata.org/entity/Q5911678   \n",
              "...                                        ...   \n",
              "8837    http://www.wikidata.org/entity/Q170068   \n",
              "8838    http://www.wikidata.org/entity/Q938282   \n",
              "8839    http://www.wikidata.org/entity/Q216904   \n",
              "8840    http://www.wikidata.org/entity/Q356644   \n",
              "8841  http://www.wikidata.org/entity/Q14417101   \n",
              "\n",
              "                                       workLabel           workModelLabel  \\\n",
              "0                                  Self-Portrait          Sigrid Schauman   \n",
              "1                                  Self-Portrait       Aleksander Lauréus   \n",
              "2                                  Self Portrait              Yrjö Ollila   \n",
              "3                 Miss Brigita Johanna Lagerstam  Brita Johanna Lagerstam   \n",
              "4                    Runeberg, Lönnrot, Snellman            Elias Lönnrot   \n",
              "...                                          ...                      ...   \n",
              "8837                                Lake Ruovesi                      NaN   \n",
              "8838           Sunnuntaiaamu talonpoikaistuvassa                      NaN   \n",
              "8839  Olviretki Schleusingenissa (TV Movie 1967)                      NaN   \n",
              "8840                              Summer evening                      NaN   \n",
              "8841                               Verkonlaskija                      NaN   \n",
              "\n",
              "              europeana                                          workImage  \n",
              "0      agent/base/42056                                                NaN  \n",
              "1                   NaN  http://commons.wikimedia.org/wiki/Special:File...  \n",
              "2                   NaN  http://commons.wikimedia.org/wiki/Special:File...  \n",
              "3                   NaN  http://commons.wikimedia.org/wiki/Special:File...  \n",
              "4                   NaN                                                NaN  \n",
              "...                 ...                                                ...  \n",
              "8837   agent/base/61358  http://commons.wikimedia.org/wiki/Special:File...  \n",
              "8838   agent/base/14212  http://commons.wikimedia.org/wiki/Special:File...  \n",
              "8839                NaN                                                NaN  \n",
              "8840  agent/base/147831  http://commons.wikimedia.org/wiki/Special:File...  \n",
              "8841                NaN  http://commons.wikimedia.org/wiki/Special:File...  \n",
              "\n",
              "[8842 rows x 8 columns]"
            ]
          },
          "execution_count": 7,
          "metadata": {},
          "output_type": "execute_result"
        }
      ],
      "source": [
        "pd.DataFrame(res)"
      ]
    },
    {
      "cell_type": "markdown",
      "metadata": {
        "id": "M8alfUyAsRel"
      },
      "source": [
        "# Query Europeana"
      ]
    },
    {
      "cell_type": "markdown",
      "metadata": {
        "id": "KwaSYAfaxxS9"
      },
      "source": [
        "## entries having europeana link in wikidata"
      ]
    },
    {
      "cell_type": "code",
      "execution_count": 7,
      "metadata": {
        "colab": {
          "base_uri": "https://localhost:8080/"
        },
        "id": "bwbkEjgXxwnM",
        "outputId": "a3d56edb-40ae-452a-85ad-1ccb2f5f00ef"
      },
      "outputs": [
        {
          "name": "stdout",
          "output_type": "stream",
          "text": [
            "986 results\n",
            "Datafields ['wiki_id', 'bs', 'link']\n",
            "{'wiki_id': 'http://www.wikidata.org/entity/Q4357370', 'bs': 'p3352', 'link': 'http://wikidata.org/entity/Q4357370'}\n",
            "{'wiki_id': 'http://www.wikidata.org/entity/Q4353724', 'bs': 'p5356', 'link': 'http://wikidata.org/entity/Q4353724'}\n",
            "{'wiki_id': 'http://www.wikidata.org/entity/Q521079', 'bs': 'p3089', 'link': 'http://wikidata.org/entity/Q521079'}\n",
            "{'wiki_id': 'http://www.wikidata.org/entity/Q651112', 'bs': 'p2675', 'link': 'http://wikidata.org/entity/Q651112'}\n",
            "{'wiki_id': 'http://www.wikidata.org/entity/Q708911', 'bs': 'p3360', 'link': 'http://wikidata.org/entity/Q708911'}\n",
            "{'wiki_id': 'http://www.wikidata.org/entity/Q767237', 'bs': 'p4032', 'link': 'http://wikidata.org/entity/Q767237'}\n",
            "{'wiki_id': 'http://www.wikidata.org/entity/Q958494', 'bs': 'p3809', 'link': 'http://wikidata.org/entity/Q958494'}\n",
            "{'wiki_id': 'http://www.wikidata.org/entity/Q1370166', 'bs': 'p2335', 'link': 'http://wikidata.org/entity/Q1370166'}\n",
            "{'wiki_id': 'http://www.wikidata.org/entity/Q1806663', 'bs': 'p6354', 'link': 'http://wikidata.org/entity/Q1806663'}\n",
            "{'wiki_id': 'http://www.wikidata.org/entity/Q1827236', 'bs': 'p2264', 'link': 'http://wikidata.org/entity/Q1827236'}\n"
          ]
        }
      ],
      "source": [
        "sparql2 = SPARQLWrapper(\"https://query.wikidata.org/sparql\")\n",
        "# \n",
        "sparql2.setQuery(\n",
        "\"\"\" PREFIX owl: <http://www.w3.org/2002/07/owl#>\n",
        "PREFIX foaf: <http://xmlns.com/foaf/0.1/>\n",
        "PREFIX dct: <http://purl.org/dc/terms/>\n",
        "PREFIX xsd: <http://www.w3.org/2001/XMLSchema#>\n",
        "PREFIX skos: <http://www.w3.org/2004/02/skos/core#>\n",
        "PREFIX schema: <http://schema.org/>\n",
        "PREFIX wd: <http://www.wikidata.org/entity/>\n",
        "PREFIX rdf: <http://www.w3.org/1999/02/22-rdf-syntax-ns#>\n",
        "PREFIX rdfs: <http://www.w3.org/2000/01/rdf-schema#>\n",
        "PREFIX wdt: <http://www.wikidata.org/prop/direct/>\n",
        "prefix p: <http://www.wikidata.org/prop/> \n",
        "PREFIX bd: <http://www.bigdata.com/rdf#>\n",
        "prefix wds: <http://www.wikidata.org/entity/statement/>\n",
        "prefix ps: <http://www.wikidata.org/prop/statement/> \n",
        "prefix pq: <http://www.wikidata.org/prop/qualifier/>\n",
        "PREFIX people: <http://ldf.fi/schema/yoma/people/>\n",
        "PREFIX wikibase: <http://wikiba.se/ontology#>\n",
        "PREFIX mwapi: <https://www.mediawiki.org/ontology#API/>\n",
        "PREFIX nbf: <http://ldf.fi/nbf/>\n",
        "\n",
        "SELECT DISTINCT ?wiki_id ?bs ?link\n",
        "WHERE {\n",
        "  \n",
        "  ?wiki_id wdt:P7704 [] ; wdt:P9324 ?bs .\n",
        "  \n",
        "  { ?wiki_id wdt:P214 ?viaf . BIND(CONCAT('http://viaf.org/viaf/', STR(?viaf)) AS ?link) }\n",
        "  UNION \n",
        "  { ?wiki_id wdt:P227 ?gnd . BIND(CONCAT('http://d-nb.info/gnd/', STR(?gnd)) AS ?link) }\n",
        "  UNION \n",
        "  { ?wikipedia_fi schema:about ?wiki_id .\n",
        "    FILTER (REGEX(STR(?wikipedia_fi),'fi.wikipedia.org'))\n",
        "    BIND(REPLACE(STR(?wikipedia_fi), 'https://fi.wikipedia.org/wiki/', 'http://dbpedia.org/resource/') AS ?link)\n",
        "  }\n",
        "  UNION\n",
        "  { ?wiki_id wdt:P7704 [].\n",
        "      BIND(REPLACE(STR(?wiki_id), '/www.wikidata.org/entity/', '/wikidata.org/entity/') AS ?link)\n",
        "  }\n",
        "  UNION\n",
        "  { ?wiki_id wdt:P7704 [].\n",
        "      BIND(STR(?wiki_id) AS ?link)\n",
        "  }\n",
        "  \n",
        "} LIMIT 3000\n",
        " \"\"\")\n",
        "\n",
        "sparql2.setReturnFormat(JSON)\n",
        "sparql2.setMethod('POST')\n",
        "results = sparql2.query().convert()\n",
        "\n",
        "res = results[\"results\"][\"bindings\"]\n",
        "print(f\"{len(res)} results\")\n",
        "\n",
        "print(f\"Datafields {results['head']['vars']}\")\n",
        "res = convertDatatypes(results)\n",
        "\n",
        "for ob in res[:10]:\n",
        "  print(ob)"
      ]
    },
    {
      "cell_type": "code",
      "execution_count": 8,
      "metadata": {
        "colab": {
          "base_uri": "https://localhost:8080/",
          "height": 110
        },
        "id": "f57_0lxi_B8D",
        "outputId": "a28d8599-d350-4160-e73a-26920c872f64"
      },
      "outputs": [
        {
          "name": "stdout",
          "output_type": "stream",
          "text": [
            "986\n"
          ]
        },
        {
          "data": {
            "text/plain": [
              "'(nbf:p5277 <http://wikidata.org/entity/Q433592>) (nbf:p447 <http://dbpedia.org/resource/Tove_Jansson>) (nbf:p5727 <http://wikidata.org/entity/Q15042696>) (nbf:p3809 <http://wikidata.org/entity/Q958494>) (nbf:p690 <http://viaf.org/viaf/45099893>) (nbf:p438 <http://www.wikidata.org/entity/Q6834177>) (nbf:p2014 <http://dbpedia.org/resource/Georg_Malmst%C3%A9n>) (nbf:p2342 <http://d-nb.info/gnd/119526786>) (nbf:p5356 <http://wikidata.org/entity/Q4353724>) (nbf:p3910 <http://wikidata.org/entity/Q2388'"
            ]
          },
          "execution_count": 8,
          "metadata": {},
          "output_type": "execute_result"
        }
      ],
      "source": [
        "arr = {\"(nbf:{} <{}>)\".format(ob.get('bs'), ob.get('link')) for ob in res}\n",
        "print(len(arr))\n",
        "\n",
        "VALUES_B = \" \".join(list(arr))\n",
        "VALUES_B[:500]"
      ]
    },
    {
      "cell_type": "code",
      "execution_count": 9,
      "metadata": {
        "id": "M_LnrrsEk2F1"
      },
      "outputs": [],
      "source": []
    },
    {
      "cell_type": "markdown",
      "metadata": {
        "id": "nNXqD0PU5aF2"
      },
      "source": [
        "## Fetch actor urls and related works of art from europeana"
      ]
    },
    {
      "cell_type": "code",
      "execution_count": 9,
      "metadata": {
        "colab": {
          "base_uri": "https://localhost:8080/"
        },
        "id": "2R0edvCSsTQo",
        "outputId": "8f8ead6f-f355-4de9-c6c2-2ee8029597b3"
      },
      "outputs": [
        {
          "name": "stdout",
          "output_type": "stream",
          "text": [
            "Query length 50075\n",
            "6389 results\n",
            "Works by 73 distinct artists\n",
            "{'bs': 'http://ldf.fi/nbf/p992', 'edm': 'http://dbpedia.org/resource/Jean_Sibelius', 'item': 'http://data.europeana.eu/proxy/europeana/03707/masc__URL_play_asp_ID_0240417'}\n",
            "{'bs': 'http://ldf.fi/nbf/p992', 'edm': 'http://dbpedia.org/resource/Jean_Sibelius', 'item': 'http://data.europeana.eu/proxy/europeana/03707/masc__URL_play_asp_ID_0240423'}\n",
            "{'bs': 'http://ldf.fi/nbf/p5353', 'edm': 'http://dbpedia.org/resource/Kaija_Saariaho', 'item': 'http://data.europeana.eu/proxy/europeana/03707/masc__URL_play_asp_ID_0834713'}\n",
            "{'bs': 'http://ldf.fi/nbf/p992', 'edm': 'http://dbpedia.org/resource/Jean_Sibelius', 'item': 'http://data.europeana.eu/proxy/europeana/03707/masc__URL_play_asp_ID_0893964'}\n",
            "{'bs': 'http://ldf.fi/nbf/p2796', 'edm': 'http://dbpedia.org/resource/Alfred_William_Finch', 'item': 'http://data.europeana.eu/proxy/europeana/04101/50176C934ABE41BA121E8B49E9467665FA9DBBAA'}\n",
            "{'bs': 'http://ldf.fi/nbf/p5353', 'edm': 'http://dbpedia.org/resource/Kaija_Saariaho', 'item': 'http://data.europeana.eu/proxy/europeana/15511/22399_111410'}\n",
            "{'bs': 'http://ldf.fi/nbf/p5353', 'edm': 'http://dbpedia.org/resource/Kaija_Saariaho', 'item': 'http://data.europeana.eu/proxy/europeana/15511/22399_111412'}\n",
            "{'bs': 'http://ldf.fi/nbf/p2796', 'edm': 'http://dbpedia.org/resource/Alfred_William_Finch', 'item': 'http://data.europeana.eu/proxy/europeana/2021002/e_IsShownAt_75239242_F831_47F9_A2DA_2A0ADEE1AE8F'}\n",
            "{'bs': 'http://ldf.fi/nbf/p2796', 'edm': 'http://dbpedia.org/resource/Alfred_William_Finch', 'item': 'http://data.europeana.eu/proxy/europeana/2021002/e_IsShownAt_7697BC16_9503_49E4_9093_8A76EBE34B5E'}\n",
            "{'bs': 'http://ldf.fi/nbf/p2796', 'edm': 'http://dbpedia.org/resource/Alfred_William_Finch', 'item': 'http://data.europeana.eu/proxy/europeana/2021002/e_IsShownAt_7735A393_8D16_4A4D_B59B_514EF4A6C309'}\n"
          ]
        }
      ],
      "source": [
        "sparql3 = SPARQLWrapper(\"http://sparql.europeana.eu/\")\n",
        "# \n",
        "q = \"\"\" PREFIX owl: <http://www.w3.org/2002/07/owl#>\n",
        "PREFIX dc: <http://purl.org/dc/elements/1.1/>\n",
        "PREFIX edm: <http://www.europeana.eu/schemas/edm/>\n",
        "PREFIX ore: <http://www.openarchives.org/ore/terms/>\n",
        "\n",
        "PREFIX nbf: <http://ldf.fi/nbf/>\n",
        "PREFIX wd: <http://www.wikidata.org/entity/>\n",
        "\n",
        "SELECT DISTINCT ?bs ?edm ?item\n",
        "WHERE {\n",
        "  VALUES (?bs ?wiki_id) { \"\"\"+VALUES_B+\"\"\" }\n",
        "  ?edm owl:sameAs? ?wiki_id .\n",
        "  ?item dc:creator ?edm ; \n",
        "    edm:type ?type .\n",
        "} LIMIT 20000 \"\"\"\n",
        "print(f'Query length {len(q)}')\n",
        "\n",
        "sparql3.setQuery(q)\n",
        "\n",
        "\n",
        "sparql3.setReturnFormat(JSON)\n",
        "sparql3.setMethod('POST')\n",
        "results = sparql3.query().convert()\n",
        "\n",
        "res = convertDatatypes(results)\n",
        "print(f\"{len(res)} results\")\n",
        "\n",
        "print(f'Works by {len({ob.get(\"edm\") for ob in res})} distinct artists')\n",
        "\n",
        "for ob in res[:10]:\n",
        "  print(ob)"
      ]
    },
    {
      "cell_type": "code",
      "execution_count": null,
      "metadata": {
        "colab": {
          "base_uri": "https://localhost:8080/",
          "height": 424
        },
        "id": "mZJ-kFmQyLK-",
        "outputId": "fc176cb7-5917-45cd-eb80-bf018b51600a"
      },
      "outputs": [],
      "source": [
        "df = pd.DataFrame(res)\n",
        "print(df)\n",
        "df_csv = df.to_csv('fin_europeana.csv')"
      ]
    }
  ],
  "metadata": {
    "colab": {
      "collapsed_sections": [],
      "name": "BiographySampoArtworksWikidata.ipynb",
      "provenance": [],
      "toc_visible": true
    },
    "kernelspec": {
      "display_name": "Python 3.9.7 ('base')",
      "language": "python",
      "name": "python3"
    },
    "language_info": {
      "codemirror_mode": {
        "name": "ipython",
        "version": 3
      },
      "file_extension": ".py",
      "mimetype": "text/x-python",
      "name": "python",
      "nbconvert_exporter": "python",
      "pygments_lexer": "ipython3",
      "version": "3.9.7 (default, Sep 16 2021, 08:50:36) \n[Clang 10.0.0 ]"
    },
    "vscode": {
      "interpreter": {
        "hash": "056af9df3335714b92606d06f1f2fa8228684766ba1a5b77570ea43fb51e6c01"
      }
    }
  },
  "nbformat": 4,
  "nbformat_minor": 0
}
